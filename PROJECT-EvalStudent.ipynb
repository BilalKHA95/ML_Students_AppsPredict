{
 "cells": [
  {
   "cell_type": "markdown",
   "metadata": {},
   "source": [
    "# PARTIE 1 --- GOOGLE PLAY STORE APPS"
   ]
  },
  {
   "cell_type": "raw",
   "metadata": {},
   "source": [
    "importation de tous les modules nécessaires"
   ]
  },
  {
   "cell_type": "code",
   "execution_count": 1,
   "metadata": {},
   "outputs": [],
   "source": [
    "%matplotlib inline\n",
    "from mpl_toolkits.mplot3d import Axes3D\n",
    "from sklearn.cluster import KMeans\n",
    "from math import sqrt\n",
    "from sklearn import mixture\n",
    "import pandas as pd\n",
    "import matplotlib.pyplot as plt\n",
    "import re\n",
    "from sklearn import linear_model\n",
    "import statsmodels.api as sm\n",
    "from pylab import *\n",
    "import numpy as np\n",
    "from IPython.display import display, HTML\n",
    "from scipy import stats\n",
    "from scipy.spatial import distance\n",
    "import random\n",
    "from sklearn.neighbors import KNeighborsClassifier\n",
    "from sklearn.naive_bayes import GaussianNB\n",
    "from sklearn import metrics\n",
    "import math\n",
    "from sklearn.naive_bayes import MultinomialNB"
   ]
  },
  {
   "cell_type": "markdown",
   "metadata": {},
   "source": [
    "Cette classe permet à partir d'un fichier CSV de faire un traitemement afin de pouvoir utiliser ces données par la suite. Nous avons essayé au maximum de la faire la plus géneraliste possible afin de pouvoir la réutiliser dans des projets futurs.<br><br>\n",
    "Pour pouvoir utiliser cette classe, il nous faut fournir au constructeur comme arguments : <br>\n",
    "<b>trainData:</b><i>fichier CSV de départ</i><br>\n",
    "<b>separateur:</b><i>séparateur utilisé dans le fichier utilisé</i><br> \n",
    "<b>columnExp:</b><i>Dans le cas de la régression colonne de la variable à expliquer, dans le cas de clustering supervisé la colonne qui correspond à la classe d'appartennance, et dans le cas de clustering non supervisé laisser vide (chaîne vide).</i><br>\n",
    "<b>columnIgnore:</b><i>colonne à ignorer de notre fichier CSV(DataSet)</i><br>\n",
    "<b>columnQuanta:</b><i>Ensemble des colonnes quantitatives de notre fichier CSV</i><br>\n",
    "<b>columnQualita:</b><i>Ensemble des colonnes qualitatives de notre fichier (categorical variable)</i><br>\n",
    "<h3>Méthodes</h3>\n",
    "<li><b>traiterColumnQuanta:</b> Méthode qui permet un traitement de toutes les colonnes quantitatives , vérifient la non présence de caractere alphabétique , si c'est le cas dans le cas où la chaine est composée uniquement de deux caracteres, on vérifie si ces caracteres correspondent aux caracteres souvent utilisés pour exprimmer kilo, mega etc. (k,M) , si la chaine est composée de plus de deux caracteres alors la valeur de cette chaine sera potentiellement considérée comme une modalité d'une variable qualitative selon le degré de recurrence défini, afin de pouvoir caster en float par la suite </li>\n",
    "<li><b>traiterColumnQualita:</b> Permet de représenter chaque modalite des colonnes catégorielles avec un codage binaire 1 dans le cas ou l'individu est présent dans cette catégorie 0 sinon</li>\n",
    "<li><b>getVarExplication:</b> Méthode qui retourne les colonnes quantitatives(Méthode créer pour un confort de \"code\" ou pourrait bien acceder a ces attributs directement a partir de l'instance d'objet)</li>\n",
    "<li><b>getTabReady:</b> Méthode qui retourne le dataframe avec toutes les variables catégorielles recodées à l'aide du codage binaire ainsi qu'un tri effectué sur les données quantitatives afin de supprimer les individu extremes avec une valeur sur une colonne supérieure ou inferieure à 4 fois l'ecart type</li>\n",
    "<h4>Arguments des méthodes</h4>\n",
    "<table>\n",
    "    <thead>\n",
    "        <tr>\n",
    "            <th>Arguments</th>\n",
    "            <th>METHODES : traiterColumnQuanta</th>\n",
    "        </tr>\n",
    "    </thead>\n",
    "    <tbody>\n",
    "        <tr>\n",
    "            <td>quantaToQualita</td>\n",
    "            <td>Variable booléenne qui permet d'activer l'option qui transforme les chaines de caracteres qui se répètent selon une certaine récurrence en variables qualitatives</td>\n",
    "        </tr>\n",
    "        <tr>\n",
    "            <td>recurence</td>\n",
    "            <td>Le nombre de récurrence à atteindre afin de considérer la chaine comme variable qualitative</td>\n",
    "        </tr>\n",
    "    </tbody>\n",
    "</table>\n",
    "<table>\n",
    "    <thead>\n",
    "        <tr>\n",
    "            <th>Arguments</th>\n",
    "            <th>METHODES: traiterColumnQualita</th>\n",
    "        </tr>\n",
    "    </thead>\n",
    "    <tbody>\n",
    "        <tr>\n",
    "            <td>numberModalite</td>\n",
    "            <td>Nombre minimun d'individus à atteindre pour une modalité afin de considérer la modalité comme pertinente, par exemple si il y a uniquement un seul individu qui appartienr a cette modalité il est inutile de la converver </td>\n",
    "        </tr>\n",
    "    </tbody>\n",
    "</table>\n",
    "<table>\n",
    "    <thead>\n",
    "        <tr>\n",
    "            <th>Arguments</th>\n",
    "            <th>METHODES: getTabReady</th>\n",
    "        </tr>\n",
    "    </thead>\n",
    "    <tbody>\n",
    "        <tr>\n",
    "            <td>columnQuanta</td>\n",
    "            <td>Variable booléen qui permet d'activer l'option qui transforme les chaines de caracteres qui se répètent selon une certaine récurrence en varaibles qualitatives</td>\n",
    "        </tr>\n",
    "        <tr>\n",
    "            <td>recurence</td>\n",
    "            <td>Le nombre de récurrence à atteindre afin de considérer la chaine comme variable qualitative</td>\n",
    "        </tr>\n",
    "        <tr>\n",
    "            <td>recurrenceQualita</td>\n",
    "            <td>Nombre minimun d'individus à atteindre pour une modalité afin de considérer la modalité comme pertinente, par exemple si il y a uniquement un seul individu qui appartient a cette modalité il est inutile de la converver </td>\n",
    "        </tr>\n",
    "    </tbody>\n",
    "</table>\n",
    "\n"
   ]
  },
  {
   "cell_type": "code",
   "execution_count": 2,
   "metadata": {},
   "outputs": [],
   "source": [
    "class csvToTab :\n",
    "    def __init__(self,trainData,separateur,columnExp,columnIgnore,columQuanta,columnQualita):\n",
    "        df = pd.read_csv(trainData,separateur)#Lecture du fichier CSV\n",
    "        df = df.drop(columns=columnIgnore)#Supression dans notre jeu donnée des colonnes à ignorer \n",
    "        self.data = df #Attribution du jeu de donnée à notre objet\n",
    "        if(not (columnExp==\"\")):#Dans le cas de certains algorithme nous avons pas de colonne à expliquer certains algorithme de cluster par exemple \n",
    "            self.data[columnExp] =  self.data[columnExp].fillna(0)#Pour le fichier application google on remplace les NAN par 0\n",
    "        self.colonne = df.axes[1] #Colonne de notre dataset\n",
    "        self.columnExp = columnExp #Colonne à expliquer de notre dataset\n",
    "        self.columnIgnore=columnIgnore#Colonne à ignorer de notre dataset\n",
    "        self.columnQuanta=columQuanta#Colonne quantitatives de notre jeu de données\n",
    "        self.columnQualita=columnQualita#Colonne qualitatives de notre jeu de données\n",
    "        if (not (columnExp == \"\")):#Si il y'a une colonne à expliquer\n",
    "            self.seriesExp = df[[columnExp]]\n",
    "    def traiterColumnQuanta(self,quantaToQualita,recurence): #Méthode qui permet d'effectuer un traitement sur les colonnes quantitatives\n",
    "        qualitaToAdd = {} #Dictionnaire de valeur qui sont dans des colonnes quantitatives mais qu'on va potentiellement considérée comme qualitatives\n",
    "        all_dummies = {} #Dictionnaire des dummies renvoyée par la fonction get_dummies de pandas \n",
    "        for col in self.colonne: #Pour chaque colonne de notre dataset\n",
    "            if(col in self.columnQuanta): #Si la colonne est une colonne quantitatives\n",
    "                i=0\n",
    "                char = False\n",
    "                for string in self.data[col] : #Pour chaque valeur de cette colonne\n",
    "                    if(re.search('[a-z]{2}|[A-Z]{2}',str(string)) and not re.search('and',str(string)) and quantaToQualita): #Si la valeur contient une suite de 2 caractere minuscule ou majscule est qu'on as activer l'option qui permet de transformer certaines valeur en qualitatives varies with device par exemple dans size\n",
    "                        if((str(string),col) not in qualitaToAdd): #Si la valeur n'a jamais était ajouter \n",
    "                            qualitaToAdd[str(string),col] = 1\n",
    "                            all_dummies[col] = pd.get_dummies(self.data[col])#On récupere par un codage binaire toutes les valeur qui corresponde a cette colonne on effectuera un tri par la suite\n",
    "                        else:\n",
    "                            qualitaToAdd[str(string),col] = qualitaToAdd.get((str(string),col)) +1 #Permet d'obtenir le nombre de fois ou cette valeur à etait rencontrer\n",
    "                        char=True #Etant donnée qu'on as deux caractères à la suite on considere cette valeur comme étant une chaine de caractere\n",
    "                    if(re.search('[a-z]{2}|[A-Z]{2}',str(string)) and not re.search('and',str(string))):\n",
    "                        char=True\n",
    "                    if(not char):\n",
    "                        coeffMulti = 1\n",
    "                        if(re.search('[0-9]M',str(string))): #Si la valeur contient un coefficient multiplicateur écrit sous forme M,k\n",
    "                            coeffMulti = 1000000\n",
    "                        if(re.search('[0-9]k',str(string))):\n",
    "                            coeffMulti = 1000\n",
    "                        if(re.search('[0-9]|\\.',str(string)) and isinstance(self.data.at[i,col],str)): #Si l'instance est considérée comme un string par numpy on remplace les , en .\n",
    "                            self.data.at[i,col] = ''.join((re.findall('[0-9]|\\.',str(string))))\n",
    "                            self.data.at[i,col] = self.data.at[i,col].replace('.',',',1)\n",
    "                            self.data.at[i,col] = self.data.at[i,col].replace('.','')\n",
    "                            self.data.at[i,col] = self.data.at[i,col].replace(',','.')\n",
    "                            self.data.at[i,col] = str(float(self.data.at[i,col])*coeffMulti)\n",
    "                            \n",
    "                    i=i+1\n",
    "                    char=False\n",
    "        quantaToQualita = pd.DataFrame()\n",
    "        for a in qualitaToAdd.items() : #pour chaque valeur à potentiellement considérer comme valeur qualitatives\n",
    "            if (a[1] > recurence): #Si le nombre de fois ou on as rencontrer cette valeur est supérieur a ce qu'on a définit comme critère\n",
    "                col = all_dummies.get(a[0][1])[a[0][0]] #On récupére la colonne qui correspond à cette valeur dans le dictionnaire all_dummies\n",
    "                name = a[0][1]+ \"_\"+a[0][0] #On récupere le nom de la valeur \n",
    "                active = pd.DataFrame([col],index=[name]) #On constitue un dataframe à partir de notre série \n",
    "                active = active.transpose() #On transpose , en effet lors de la création du dataframe il a agencer les valeur en ligne et non pas en colonne\n",
    "                quantaToQualita = quantaToQualita.combine_first(active) #On ajoute au dataframe la nouvelle colonne\n",
    "        return quantaToQualita\n",
    "    def traiterColumnQualita(self,numberModalite):\n",
    "        qualita = pd.DataFrame()\n",
    "        for col in self.colonne: #Pour chaque colonne de notre dataframe \n",
    "            if(col in self.columnQualita): #Si la colonne est une colonne qualitatives\n",
    "                a=pd.get_dummies(self.data[col]) #On récupere le codage binaire de cette colonne 1 pour appartenance et 0 le cas contraire\n",
    "                colonne = a.axes[1] #On récupere le nom de toutes les modalité de la colonne\n",
    "                number = a.sum(axis=0) #On récupére le nombre d'individu possédant cette modalité\n",
    "                i=0\n",
    "                for col2 in colonne:\n",
    "                    if(number[i]>numberModalite): #Si le nombre d'individu qui possede cette modalité est supérieur aux nombre de modalité défini on ajoute cette modalité \n",
    "                        qualita = qualita.combine_first(a[[col2]])\n",
    "                    i=i+1\n",
    "        return qualita\n",
    "    def getVarExplication(self):\n",
    "        return self.data[self.columnQuanta] #Retourne les valeurs des colonnes quantitatives , methode pour le confort de code on a directement accès a ces valeur depuis l'objet\n",
    "    def getTabReady(self,columnQuanta,recurrence,recurrenceQualita): #Méthode qui appel toutes les méthodes precedentes et effectue un tri sur les valeur extreme\n",
    "        tab = self.traiterColumnQuanta(columnQuanta,recurrence)\n",
    "        tab2 = self.traiterColumnQualita(recurrenceQualita)\n",
    "        \n",
    "        if (not (self.columnExp == \"\")):\n",
    "                tabData = self.seriesExp\n",
    "        tabExp = self.getVarExplication()\n",
    "        tabFinal =tabExp.combine_first(tab2)\n",
    "        tabFinal = tabFinal.combine_first(tab)\n",
    "        col = self.columnQuanta\n",
    "        if(not (self.columnExp == \"\")):\n",
    "            tabFinal = tabFinal.combine_first(tabData)\n",
    "        for coll in col:\n",
    "            tabFinal[coll] = pd.to_numeric(tabFinal[coll],errors='coerce')\n",
    "            tabFinal = tabFinal[(tabFinal[coll] >= tabFinal[coll].mean() - 4*sqrt(tabFinal[coll].var())) & (tabFinal[coll] <= tabFinal[coll].mean() + 4*sqrt(tabFinal[coll].var())) ] #Elimination des valeur extreme\n",
    "        return tabFinal"
   ]
  },
  {
   "cell_type": "markdown",
   "metadata": {},
   "source": [
    "<strong>On importe notre fichier et on lui applique un tri à l'aide de la classe créer précedemment et on va recupérer le dataframe dans la variable tabFinal. On supprime les lignes où une valeur NULL apparaît. (Dans les champs rating on a remplacé les null par des 0 car dans ce cas cela a du sens, les applications non notées sont du au fait d'un manque de succès donc on peut leur assigner une note de 0.) Lors de la définition de la classe nous avons communiqué a la classe le fait de considerer Android Ver et current ver comme des variables quantitatives car une version peut etre vu comme une variable continue même si elle prend des valeurs discrete. Et plus la version est haute plus le mobile est récent</strong> "
   ]
  },
  {
   "cell_type": "code",
   "execution_count": 3,
   "metadata": {},
   "outputs": [],
   "source": [
    "fichier = csvToTab(\"googleplaystore.csv\",\",\",\"Rating\",[\"App\"],[\"Android Ver\",\"Current Ver\",\"Reviews\",\"Size\",\"Price\",\"Installs\"],[\"Category\",\"Content Rating\",\"Genres\",\"Type\",\"Last Updated\"]) #On instancie notre objet en definissant la colonne a explique etc ...\n",
    "tabFinal = fichier.getTabReady(False,200,60) #On crée notre tableau avec la désactivation de l'option quantaToQualita,200 qui ne sert à rien etant donnée que l'option est désactiver , et un nombre minimun de 60 personne qui appartiennent à une modalité pour la conserver\n",
    "tabFinal = tabFinal.dropna() #On supprime les lignes qui contiennent une valeur nulle\n"
   ]
  },
  {
   "cell_type": "code",
   "execution_count": 4,
   "metadata": {
    "scrolled": true
   },
   "outputs": [
    {
     "name": "stdout",
     "output_type": "stream",
     "text": [
      "Variance PRIX : 4.579727646950558\n",
      "Variance Android Ver : 0.6920517711381186\n"
     ]
    },
    {
     "data": {
      "image/png": "[encoded data removed]",
      "text/plain": [
       "<Figure size 432x288 with 1 Axes>"
      ]
     },
     "metadata": {
      "needs_background": "light"
     },
     "output_type": "display_data"
    },
    {
     "data": {
      "image/png": "[encoded data removed]",
      "text/plain": [
       "<Figure size 432x288 with 1 Axes>"
      ]
     },
     "metadata": {
      "needs_background": "light"
     },
     "output_type": "display_data"
    }
   ],
   "source": [
    "quanta = tabFinal.filter(items=fichier.columnQuanta) #On séléctionne uniquement les colonnes quantitatives\n",
    "quantaWithRating= quanta.corrwith(tabFinal['Rating']) #On obtient la corrélation avec le champ rating\n",
    "qunataWithQuanta=quanta.corr() #Corrélation entre les varaibles quantitatives entre-elle\n",
    "quantaWithRating.plot.bar() \n",
    "qunataWithQuanta.plot.bar()\n",
    "print(\"Variance PRIX : \" + str(tabFinal['Price'].var()))\n",
    "print(\"Variance Android Ver : \" + str(tabFinal['Android Ver'].var()))\n",
    "tabVariableAignorer=[\"Price\",\"Current Ver\",\"Android Ver\"]"
   ]
  },
  {
   "cell_type": "markdown",
   "metadata": {},
   "source": [
    "<p>Sur les graphiques (<strong>le premier</strong>) ci-dessus les variables qui sont un minimum <strong>correlées</strong> avec le champ Rating sont le nombre d'installations , la taille de l'application , et le nombre de notes attribuées donc ce sont celles à priori qu'on va conserver pour notre régression. Pour ce qui est de la catégorie price la variance est extrement faible , la <strong>diversité</strong> de notre jeu de données est plutot faible sur ce champ pour cet ensemble d'entrainements. Le prix n'est pas une bonne donnée pour une regression mais cela peut etre du au manque de <strong>diversité</strong> dans notre jeu de données ainsi que pour la version Android"
   ]
  },
  {
   "cell_type": "markdown",
   "metadata": {},
   "source": [
    "<p>Cependant dans le second graphique qui mesure la corrélation entre chaque variables on peut constater que le nombre de note attribuée est fortement <strong>corrélées</strong> avec le nombre d'installation donc on peut probablement en conservée qu'une seul des deux"
   ]
  },
  {
   "cell_type": "code",
   "execution_count": 5,
   "metadata": {},
   "outputs": [
    {
     "name": "stdout",
     "output_type": "stream",
     "text": [
      "Auto & Vehicles:AUTO_AND_VEHICLES CORR:1.0\n",
      "Books & Reference:BOOKS_AND_REFERENCE CORR:1.0\n",
      "Business:BUSINESS CORR:1.0\n",
      "Communication:COMMUNICATION CORR:1.0\n",
      "Dating:DATING CORR:1.0\n",
      "Events:EVENTS CORR:1.0\n",
      "Finance:FINANCE CORR:1.0\n",
      "Food & Drink:FOOD_AND_DRINK CORR:1.0\n",
      "Paid:Free CORR:-1.0\n",
      "Health & Fitness:HEALTH_AND_FITNESS CORR:1.0\n",
      "House & Home:HOUSE_AND_HOME CORR:1.0\n",
      "Libraries & Demo:LIBRARIES_AND_DEMO CORR:1.0\n",
      "Lifestyle:LIFESTYLE CORR:0.9984243271922257\n",
      "Maps & Navigation:MAPS_AND_NAVIGATION CORR:1.0\n",
      "Medical:MEDICAL CORR:1.0\n",
      "News & Magazines:NEWS_AND_MAGAZINES CORR:1.0\n",
      "Personalization:PERSONALIZATION CORR:1.0\n",
      "Photography:PHOTOGRAPHY CORR:1.0\n",
      "Productivity:PRODUCTIVITY CORR:1.0\n",
      "Shopping:SHOPPING CORR:1.0\n",
      "Social:SOCIAL CORR:1.0\n",
      "Sports:SPORTS CORR:0.9899543582569703\n",
      "Tools:TOOLS CORR:1.0\n",
      "Travel & Local:TRAVEL_AND_LOCAL CORR:0.9972057364217348\n",
      "Video Players & Editors:VIDEO_PLAYERS CORR:0.9958688664493925\n",
      "Weather:WEATHER CORR:1.0\n"
     ]
    }
   ],
   "source": [
    "tabCov = tabFinal.corr()\n",
    "seuilCorr= 0.9 #Seuil de corrélation a partir duquel on supprime \n",
    "i=0\n",
    "y=0\n",
    "deleted = []\n",
    "while(i < len(tabCov.axes[1])):\n",
    "    while(y < len(tabCov.axes[1])) :\n",
    "        if(abs(tabCov.iat[i,y]) > seuilCorr) : #Si la corrélation négative ou positive est supérieur au seuil \n",
    "            if(tabCov.axes[1][y] != tabCov.axes[0][i]) : #Si la corrélation qu'on lit ne concerne pas la variable avec elle meme\n",
    "                if(not((tabCov.axes[1][y] in deleted) or (tabCov.axes[0][i] in deleted)) ): #Si une des deux modalité n'a pas déjà etait supprimer\n",
    "                    deleted.append(tabCov.axes[1][y])\n",
    "                    tabFinal = tabFinal.drop(columns=tabCov.axes[1][y],errors='ignore')\n",
    "                    print(tabCov.axes[1][y] +\":\"+tabCov.axes[0][i]+ \" CORR:\"+str(tabCov.iat[i,y]))\n",
    "        y=y+1\n",
    "    y=0\n",
    "    i=i+1"
   ]
  },
  {
   "cell_type": "markdown",
   "metadata": {},
   "source": [
    "<p>Ce bout de code nous permet de supprimer les variables fortement corrélées qui seraient donc <strong>redondantes</strong> dans notre regression on peut constater par exemple ci-dessus Dating:DATING avec un coefficient de correlation = 1 donc il porte la meme information donc on peut en conserver uniquement 1 , PAID:Free avec une correlation de -1 est aussi un exemple interessant car ils sont correlés de maniere inverse on peut donc en conserver un seul des deux. Alors si une application est Free elle ne sera donc pas en PAID"
   ]
  },
  {
   "cell_type": "code",
   "execution_count": 6,
   "metadata": {
    "scrolled": false
   },
   "outputs": [
    {
     "name": "stdout",
     "output_type": "stream",
     "text": [
      "BUSINESS\n",
      "GAME\n",
      "Rating\n"
     ]
    }
   ],
   "source": [
    "qualita = tabFinal.drop(columns=fichier.columnQuanta) #On ne garde que les colonnes qualitatives et la colonne explicatives\n",
    "seuilCorr= 0.1 #Seuil de corrélation à partir duquel on conserve\n",
    "colonneConserver = [] #colonne qualitatives à conserver\n",
    "for colonne in qualita.axes[1]: #Pour toutes les colonnes qualitatives\n",
    "    if(stats.pointbiserialr(qualita[colonne],tabFinal['Rating'])[0] > seuilCorr or stats.pointbiserialr(qualita[colonne],tabFinal['Rating'])[0] < -seuilCorr ): #Si le point biserial est supérieur au coefficient\n",
    "        print(colonne)\n",
    "        colonneConserver.append(colonne)\n",
    "    else :\n",
    "        tabFinal=tabFinal.drop(columns=colonne)\n",
    "    \n",
    "    \n",
    "    \n",
    "    \n"
   ]
  },
  {
   "cell_type": "markdown",
   "metadata": {},
   "source": [
    "<p>Ensuite à l'aide du point biserial qui nous permet de mesurer la dépendance entre une variable binaire et une variable continue et on retient celles qui correspondent à un certain seuil de correlation (On conserve la colonne rating pour le moment pour de futures opérations on la supprimera avant la régression)</p>"
   ]
  },
  {
   "cell_type": "code",
   "execution_count": 7,
   "metadata": {},
   "outputs": [
    {
     "data": {
      "image/png": "[encoded data removed]",
      "text/plain": [
       "<Figure size 1080x360 with 3 Axes>"
      ]
     },
     "metadata": {
      "needs_background": "light"
     },
     "output_type": "display_data"
    },
    {
     "data": {
      "image/png": "[encoded data removed]",
      "text/plain": [
       "<Figure size 1080x360 with 3 Axes>"
      ]
     },
     "metadata": {
      "needs_background": "light"
     },
     "output_type": "display_data"
    }
   ],
   "source": [
    "begin=0 #Début de l'intervalle\n",
    "end = 5 #Fin de l'intervalle\n",
    "step=0.5 #Pas de ségmentation des intervalles \n",
    "mapIntervalleNote={} #Dictionnaire des intervalles de notes\n",
    "repartitionCategorie={} #Dictionnaire de la répartition des individu selon la catégorie et un intervalle de note\n",
    "repartitionNote={}\n",
    "repartitionGlobale={}\n",
    "for i in range(int((end/step))): #Nombre de tour à effectuer afin d'avoir l'ensemble de la segmentation \n",
    "    intervalle=qualita[((qualita['Rating']>=begin) & (qualita['Rating']<= begin+step))] #On séléctionne l'intervalle de note \n",
    "    mapIntervalleNote[begin] = intervalle.drop(columns='Rating') #On retiens uniquement les colonnes qualitative de cette intervallle\n",
    "    repartitionGlobale[begin] = (len(intervalle.index),len(qualita.index))#Répartition des note sur l'intervalle nombre d'individu sur l'intervalle de note / nombre total d'individu\n",
    "\n",
    "    for col in intervalle.axes[1]:\n",
    "        repartitionCategorie[begin,col] = (intervalle[col].sum(),(qualita[col].sum())) #Nombre d'individus qui posséde cette modalité sur l'intervalle / nombre total d'individu qui possède cette modaalité\n",
    "        repartitionNote[begin,col]=(intervalle[col].sum(),len(intervalle.index))#Nombre d'individus qui posséde cette modalité sur l'intervalle / nombre total d'individu dans cette intervalle de note\n",
    "    begin=begin+step\n",
    "pourcentageRepartitionCatégorie={}\n",
    "pourcentageRepartitionNote={}\n",
    "pourcentageRepartitionGlobale={}\n",
    "begin=0\n",
    "for i in range((int(end/step))):\n",
    "    for col in (mapIntervalleNote.get(0).axes[1]):\n",
    "        value=repartitionCategorie[begin,col]\n",
    "        value1=repartitionNote[begin,col]\n",
    "        value2=repartitionGlobale[begin]\n",
    "        pourcentageRepartitionCatégorie[begin,col]=(value[0]/value[1])*100\n",
    "        pourcentageRepartitionNote[begin,col]=(value1[0]/value1[1])*100\n",
    "        pourcentageRepartitionGlobale[begin] = (value2[0]/value2[1])*100\n",
    "    begin=begin+step\n",
    "begin=0\n",
    "for col in (tabFinal.axes[1]): #Pour toutes les colonnes\n",
    "    \n",
    "    if(col in mapIntervalleNote[begin].axes[1]): #Si la colonne appartient au tri effectuer au-dessus\n",
    "        \n",
    "        x=[]\n",
    "        y=[]\n",
    "        y1=[]\n",
    "        y2=[]\n",
    "        for i in range(int(end/step)):\n",
    "            valeur=pourcentageRepartitionCatégorie[begin,col]\n",
    "            x.append(begin)\n",
    "            y.append(valeur) #On ajoute le pourcentage de répartition catégorie afin le tracer de graphique\n",
    "            y1.append(pourcentageRepartitionNote[begin,col])\n",
    "            y2.append(pourcentageRepartitionGlobale[begin])\n",
    "            begin=begin+step\n",
    "        y_pos = np.arange(len(x)) #On récupére une array qui correspond à une suite allant de 0 au nombre d'intervalle\n",
    "        plt.figure(figsize=(15,5)) #On définit la taille 15 par 5 pouce\n",
    "        plt.subplot(1,3,1) #On définit 3 sous tracé 1 ligne 3 colonne\n",
    "        plt.bar(y_pos, y1, align='center', alpha=0.5) #On trace notre premier graphique \n",
    "        plt.xticks(y_pos, x) #On place des trait en abscisse\n",
    "        plt.ylabel('Pourcentage')\n",
    "        plt.xlabel('Rating')\n",
    "        plt.ylim(0,100)\n",
    "        title(str(col)+ \"(Repartition /Ensemble rating )\")\n",
    "        plt.subplot(1,3,2) \n",
    "        plt.bar(y_pos, y, align='center', alpha=0.5)\n",
    "        plt.xticks(y_pos, x)\n",
    "        plt.ylabel('Pourcentage')\n",
    "        plt.xlabel('Rating')\n",
    "        plt.ylim(0,100)\n",
    "        title(str(col)+\"(Repartition /Ensemble categorie )\")\n",
    "        plt.subplot(1,3,3)\n",
    "        plt.bar(y_pos, y2, align='center', alpha=0.5)\n",
    "        plt.xticks(y_pos, x)\n",
    "        plt.ylabel('Pourcentage')\n",
    "        plt.xlabel('Rating')\n",
    "        plt.ylim(0,100)\n",
    "        title(\"Repartition Normale\")\n",
    "        plt.show()\n",
    "        begin=0\n",
    "        \n",
    "    \n",
    "    "
   ]
  },
  {
   "cell_type": "markdown",
   "metadata": {},
   "source": [
    "<p> Afin de confirmer le point biseral , nous avons décider de visualiser par rapport aux modalités conservées si effectivement elles ne suivaient pas la distrubution normale des applications par rapport aux notes , le code ci-dessus nous permet de représenter la présence de certaines modalités pour un intervalle de notes où l'on peut constater que 40% des applications Business ont des note comprises entre 0-0.5 ce qui represente 15% des applications qui on une note comprise entre 0-0.5 il est donc tres interessant de conserver cette modalité dans notre regression pour pouvoir appliquer un coefficient négatif pour les applications business et de la meme manière pour les application game 90% ont des note comprises entre 4 et 5 etoiles</p>"
   ]
  },
  {
   "cell_type": "code",
   "execution_count": 8,
   "metadata": {},
   "outputs": [
    {
     "name": "stdout",
     "output_type": "stream",
     "text": [
      "                            OLS Regression Results                            \n",
      "==============================================================================\n",
      "Dep. Variable:                 Rating   R-squared:                       0.806\n",
      "Model:                            OLS   Adj. R-squared:                  0.806\n",
      "Method:                 Least Squares   F-statistic:                     4539.\n",
      "Date:                Thu, 30 May 2019   Prob (F-statistic):               0.00\n",
      "Time:                        01:48:44   Log-Likelihood:                -17043.\n",
      "No. Observations:                8738   AIC:                         3.410e+04\n",
      "Df Residuals:                    8730   BIC:                         3.416e+04\n",
      "Df Model:                           8                                         \n",
      "Covariance Type:            nonrobust                                         \n",
      "===============================================================================\n",
      "                  coef    std err          t      P>|t|      [0.025      0.975]\n",
      "-------------------------------------------------------------------------------\n",
      "Android Ver     0.8084      0.007    121.659      0.000       0.795       0.821\n",
      "BUSINESS       -0.7823      0.089     -8.791      0.000      -0.957      -0.608\n",
      "Current Ver  4.582e-08   2.39e-08      1.917      0.055   -1.04e-09    9.27e-08\n",
      "GAME            0.6478      0.064     10.140      0.000       0.523       0.773\n",
      "Installs     1.114e-08   2.37e-09      4.692      0.000    6.49e-09    1.58e-08\n",
      "Price           0.0227      0.009      2.664      0.008       0.006       0.039\n",
      "Reviews     -5.958e-08   6.13e-08     -0.973      0.331    -1.8e-07    6.05e-08\n",
      "Size         8.402e-09      9e-10      9.338      0.000    6.64e-09    1.02e-08\n",
      "==============================================================================\n",
      "Omnibus:                     1102.430   Durbin-Watson:                   1.614\n",
      "Prob(Omnibus):                  0.000   Jarque-Bera (JB):             1563.730\n",
      "Skew:                          -1.021   Prob(JB):                         0.00\n",
      "Kurtosis:                       3.357   Cond. No.                     1.53e+08\n",
      "==============================================================================\n",
      "\n",
      "Warnings:\n",
      "[1] Standard Errors assume that the covariance matrix of the errors is correctly specified.\n",
      "[2] The condition number is large, 1.53e+08. This might indicate that there are\n",
      "strong multicollinearity or other numerical problems.\n"
     ]
    }
   ],
   "source": [
    "regr = linear_model.LinearRegression() \n",
    "regr.fit(tabFinal.drop(columns=fichier.columnExp),tabFinal[fichier.columnExp])\n",
    "model = sm.OLS(tabFinal['Rating'],tabFinal.drop(columns='Rating')).fit() ##api statistique qui offre un modèle qui offre des statistiques sur notre modele\n",
    "print_model = model.summary()\n",
    "print(print_model)"
   ]
  },
  {
   "cell_type": "markdown",
   "metadata": {},
   "source": [
    "<p>On constate que nous avons obtenus un R squared <strong>0.806</strong> ce qui est bon. On arrive a expliquer une bonne partie des points cependant nous avons remarqué que la variable install serait plus pertinente en tant que variable catégorielle notamment pour mieux expliquer les applications avec de faibles notes nous allons donc maintenant <strong>considérer le champs installation en tant que variable catégorielle</strong></p>"
   ]
  },
  {
   "cell_type": "code",
   "execution_count": null,
   "metadata": {},
   "outputs": [
    {
     "name": "stdout",
     "output_type": "stream",
     "text": [
      "Auto & Vehicles:AUTO_AND_VEHICLES CORR:1.0\n",
      "Books & Reference:BOOKS_AND_REFERENCE CORR:1.0\n",
      "Business:BUSINESS CORR:1.0\n",
      "Communication:COMMUNICATION CORR:1.0\n",
      "Dating:DATING CORR:1.0\n",
      "Events:EVENTS CORR:1.0\n",
      "Finance:FINANCE CORR:1.0\n",
      "Food & Drink:FOOD_AND_DRINK CORR:1.0\n",
      "Paid:Free CORR:-1.0\n",
      "Health & Fitness:HEALTH_AND_FITNESS CORR:1.0\n",
      "House & Home:HOUSE_AND_HOME CORR:1.0\n",
      "Libraries & Demo:LIBRARIES_AND_DEMO CORR:1.0\n",
      "Lifestyle:LIFESTYLE CORR:0.9984243906706125\n",
      "Maps & Navigation:MAPS_AND_NAVIGATION CORR:1.0\n",
      "Medical:MEDICAL CORR:1.0\n",
      "News & Magazines:NEWS_AND_MAGAZINES CORR:1.0\n",
      "Personalization:PERSONALIZATION CORR:1.0\n",
      "Photography:PHOTOGRAPHY CORR:1.0\n",
      "Productivity:PRODUCTIVITY CORR:1.0\n",
      "Shopping:SHOPPING CORR:1.0\n",
      "Social:SOCIAL CORR:1.0\n",
      "Sports:SPORTS CORR:0.9899547339735668\n",
      "Tools:TOOLS CORR:1.0\n",
      "Travel & Local:TRAVEL_AND_LOCAL CORR:0.9972057976641123\n",
      "Video Players & Editors:VIDEO_PLAYERS CORR:0.995868926761201\n",
      "Weather:WEATHER CORR:1.0\n",
      "1+\n",
      "1,000,000+\n",
      "10+\n",
      "10,000,000+\n",
      "100+\n",
      "100,000+\n",
      "5+\n",
      "5,000,000+\n",
      "50+\n",
      "500+\n",
      "BUSINESS\n",
      "GAME\n",
      "Rating\n"
     ]
    },
    {
     "data": {
      "image/png": "[encoded data removed]",
      "text/plain": [
       "<Figure size 1080x360 with 3 Axes>"
      ]
     },
     "metadata": {
      "needs_background": "light"
     },
     "output_type": "display_data"
    },
    {
     "data": {
      "image/png": "[encoded data removed]",
      "text/plain": [
       "<Figure size 1080x360 with 3 Axes>"
      ]
     },
     "metadata": {
      "needs_background": "light"
     },
     "output_type": "display_data"
    },
    {
     "data": {
      "image/png": "[encoded data removed]",
      "text/plain": [
       "<Figure size 1080x360 with 3 Axes>"
      ]
     },
     "metadata": {
      "needs_background": "light"
     },
     "output_type": "display_data"
    },
    {
     "data": {
      "image/png": "[encoded data removed]",
      "text/plain": [
       "<Figure size 1080x360 with 3 Axes>"
      ]
     },
     "metadata": {
      "needs_background": "light"
     },
     "output_type": "display_data"
    },
    {
     "data": {
      "image/png": "[encoded data removed]",
      "text/plain": [
       "<Figure size 1080x360 with 3 Axes>"
      ]
     },
     "metadata": {
      "needs_background": "light"
     },
     "output_type": "display_data"
    },
    {
     "data": {
      "image/png": "[encoded data removed]",
      "text/plain": [
       "<Figure size 1080x360 with 3 Axes>"
      ]
     },
     "metadata": {
      "needs_background": "light"
     },
     "output_type": "display_data"
    },
    {
     "data": {
      "image/png": "[encoded data removed]",
      "text/plain": [
       "<Figure size 1080x360 with 3 Axes>"
      ]
     },
     "metadata": {
      "needs_background": "light"
     },
     "output_type": "display_data"
    },
    {
     "data": {
      "image/png": "[encoded data removed]",
      "text/plain": [
       "<Figure size 1080x360 with 3 Axes>"
      ]
     },
     "metadata": {
      "needs_background": "light"
     },
     "output_type": "display_data"
    },
    {
     "data": {
      "image/png": "[encoded data removed]",
      "text/plain": [
       "<Figure size 1080x360 with 3 Axes>"
      ]
     },
     "metadata": {
      "needs_background": "light"
     },
     "output_type": "display_data"
    },
    {
     "data": {
      "image/png": "[encoded data removed]",
      "text/plain": [
       "<Figure size 1080x360 with 3 Axes>"
      ]
     },
     "metadata": {
      "needs_background": "light"
     },
     "output_type": "display_data"
    },
    {
     "data": {
      "image/png": "[encoded data removed]",
      "text/plain": [
       "<Figure size 1080x360 with 3 Axes>"
      ]
     },
     "metadata": {
      "needs_background": "light"
     },
     "output_type": "display_data"
    },
    {
     "data": {
      "image/png": "[encoded data removed]",
      "text/plain": [
       "<Figure size 1080x360 with 3 Axes>"
      ]
     },
     "metadata": {
      "needs_background": "light"
     },
     "output_type": "display_data"
    }
   ],
   "source": [
    "##CODE IDENTIQUE A CELUI DU DESSUS MODIFICATION UNIQUEMENT SUR LES COLONNES RETENUE\n",
    "\n",
    "fichier = csvToTab(\"googleplaystore.csv\",\",\",\"Rating\",[\"App\"],[\"Android Ver\",\"Current Ver\",\"Reviews\",\"Size\",\"Price\"],[\"Category\",\"Content Rating\",\"Genres\",\"Type\",\"Last Updated\",\"Installs\"])\n",
    "tabFinal = fichier.getTabReady(False,200,60)\n",
    "tabFinal = tabFinal.dropna()\n",
    "tabCov = tabFinal.corr()\n",
    "seuilCorr= 0.9\n",
    "i=0\n",
    "y=0\n",
    "deleted = []\n",
    "while(i < len(tabCov.axes[1])):\n",
    "    while(y < len(tabCov.axes[1])) :\n",
    "        if(abs(tabCov.iat[i,y]) > seuilCorr) :\n",
    "            if(tabCov.axes[1][y] != tabCov.axes[0][i]) :\n",
    "                if(not((tabCov.axes[1][y] in deleted) or (tabCov.axes[0][i] in deleted)) ):\n",
    "                    deleted.append(tabCov.axes[1][y])\n",
    "                    tabFinal = tabFinal.drop(columns=tabCov.axes[1][y],errors='ignore')\n",
    "                    print(tabCov.axes[1][y] +\":\"+tabCov.axes[0][i]+ \" CORR:\"+str(tabCov.iat[i,y]))\n",
    "        y=y+1\n",
    "    y=0\n",
    "    i=i+1\n",
    "qualita = tabFinal.drop(columns=fichier.columnQuanta)\n",
    "seuilCorr= 0.1\n",
    "colonneConserver = []\n",
    "for colonne in qualita.axes[1]:\n",
    "    if(stats.pointbiserialr(qualita[colonne],tabFinal['Rating'])[0] > seuilCorr or stats.pointbiserialr(qualita[colonne],tabFinal['Rating'])[0] < -seuilCorr ):\n",
    "        print(colonne)\n",
    "        colonneConserver.append(colonne)\n",
    "    else :\n",
    "        tabFinal=tabFinal.drop(columns=colonne)\n",
    "begin=0\n",
    "end = 5\n",
    "step=0.5\n",
    "mapIntervalleNote={}\n",
    "repartitionCategorie={}\n",
    "repartitionNote={}\n",
    "repartitionGlobale={}\n",
    "for i in range(int((end/step))):\n",
    "    intervalle=qualita[((qualita['Rating']>=begin) & (qualita['Rating']<= begin+step))]\n",
    "    mapIntervalleNote[begin] = intervalle.drop(columns='Rating')\n",
    "    repartitionGlobale[begin] = (len(intervalle.index),len(qualita.index))\n",
    "\n",
    "    for col in intervalle.axes[1]:\n",
    "        repartitionCategorie[begin,col] = (intervalle[col].sum(),(qualita[col].sum()))\n",
    "        repartitionNote[begin,col]=(intervalle[col].sum(),len(intervalle.index))\n",
    "    begin=begin+step\n",
    "mapR={}\n",
    "mapRR={}\n",
    "mapRRR={}\n",
    "begin=0\n",
    "for i in range((int(end/step))):\n",
    "    for col in (mapIntervalleNote.get(0).axes[1]):\n",
    "        value=repartitionCategorie[begin,col]\n",
    "        value1=repartitionNote[begin,col]\n",
    "        value2=repartitionGlobale[begin]\n",
    "        mapR[begin,col]=(value[0]/value[1])*100\n",
    "        mapRR[begin,col]=(value1[0]/value1[1])*100\n",
    "        mapRRR[begin] = (value2[0]/value2[1])*100\n",
    "    begin=begin+step\n",
    "begin=0\n",
    "for col in (tabFinal.axes[1]):\n",
    "    \n",
    "    if(col in mapIntervalleNote[begin].axes[1]):\n",
    "        \n",
    "        x=[]\n",
    "        y=[]\n",
    "        y1=[]\n",
    "        y2=[]\n",
    "        for i in range(int(end/step)):\n",
    "            valeur=mapR[begin,col]\n",
    "            x.append(begin)\n",
    "            y.append(valeur)\n",
    "            y1.append(mapRR[begin,col])\n",
    "            y2.append(mapRRR[begin])\n",
    "            begin=begin+step\n",
    "        y_pos = np.arange(len(x))\n",
    "        plt.figure(figsize=(15,5))\n",
    "        plt.subplot(1,3,1)\n",
    "        plt.bar(y_pos, y1, align='center', alpha=0.5)\n",
    "        plt.xticks(y_pos, x)\n",
    "        plt.ylabel('Pourcentage')\n",
    "        plt.xlabel('Rating')\n",
    "        plt.ylim(0,100)\n",
    "        title(str(col)+ \"(Repartition /Ensemble rating )\")\n",
    "        plt.subplot(1,3,2)\n",
    "        plt.bar(y_pos, y, align='center', alpha=0.5)\n",
    "        plt.xticks(y_pos, x)\n",
    "        plt.ylabel('Pourcentage')\n",
    "        plt.xlabel('Rating')\n",
    "        plt.ylim(0,100)\n",
    "        title(str(col)+\"(Repartition /Ensemble categorie )\")\n",
    "        plt.subplot(1,3,3)\n",
    "        plt.bar(y_pos, y2, align='center', alpha=0.5)\n",
    "        plt.xticks(y_pos, x)\n",
    "        plt.ylabel('Pourcentage')\n",
    "        plt.xlabel('Rating')\n",
    "        plt.ylim(0,100)\n",
    "        title(\"Repartition Normale\")\n",
    "        plt.show()\n",
    "        begin=0\n",
    "\n"
   ]
  },
  {
   "cell_type": "markdown",
   "metadata": {},
   "source": [
    "<p>On constate que de considérer le champ installation comme une variable catégorielle est pertinent car par exemple 80% des applications qui appartiennent a 10+ on une note de 0 et donc apparteniennent à cette catégorie ce qui va faire baisser la valeur du rating, ce qui est pertinent</p>"
   ]
  },
  {
   "cell_type": "code",
   "execution_count": null,
   "metadata": {},
   "outputs": [
    {
     "name": "stdout",
     "output_type": "stream",
     "text": [
      "                            OLS Regression Results                            \n",
      "==============================================================================\n",
      "Dep. Variable:                 Rating   R-squared:                       0.864\n",
      "Model:                            OLS   Adj. R-squared:                  0.864\n",
      "Method:                 Least Squares   F-statistic:                     3273.\n",
      "Date:                Thu, 30 May 2019   Prob (F-statistic):               0.00\n",
      "Time:                        01:49:16   Log-Likelihood:                -15500.\n",
      "No. Observations:                8747   AIC:                         3.103e+04\n",
      "Df Residuals:                    8730   BIC:                         3.115e+04\n",
      "Df Model:                          17                                         \n",
      "Covariance Type:            nonrobust                                         \n",
      "===============================================================================\n",
      "                  coef    std err          t      P>|t|      [0.025      0.975]\n",
      "-------------------------------------------------------------------------------\n",
      "1+             -3.1717      0.187    -16.948      0.000      -3.539      -2.805\n",
      "1,000,000+      0.7713      0.047     16.312      0.000       0.679       0.864\n",
      "10+            -2.5650      0.079    -32.278      0.000      -2.721      -2.409\n",
      "10,000,000+     0.6636      0.057     11.646      0.000       0.552       0.775\n",
      "100+           -1.5330      0.060    -25.477      0.000      -1.651      -1.415\n",
      "100,000+        0.6766      0.051     13.382      0.000       0.578       0.776\n",
      "5+             -3.0843      0.171    -18.087      0.000      -3.419      -2.750\n",
      "5,000,000+      0.7254      0.068     10.643      0.000       0.592       0.859\n",
      "50+            -2.1906      0.104    -21.058      0.000      -2.395      -1.987\n",
      "500+           -0.8430      0.085     -9.973      0.000      -1.009      -0.677\n",
      "Android Ver     0.8589      0.007    121.401      0.000       0.845       0.873\n",
      "BUSINESS       -0.1306      0.075     -1.732      0.083      -0.278       0.017\n",
      "Current Ver  5.379e-08      2e-08      2.688      0.007    1.46e-08     9.3e-08\n",
      "GAME            0.5357      0.054     10.001      0.000       0.431       0.641\n",
      "Price           0.0629      0.007      8.782      0.000       0.049       0.077\n",
      "Reviews      1.683e-07   2.88e-08      5.850      0.000    1.12e-07    2.25e-07\n",
      "Size         9.577e-10   7.72e-10      1.240      0.215   -5.56e-10    2.47e-09\n",
      "==============================================================================\n",
      "Omnibus:                      230.762   Durbin-Watson:                   1.879\n",
      "Prob(Omnibus):                  0.000   Jarque-Bera (JB):              516.664\n",
      "Skew:                          -0.118   Prob(JB):                    6.43e-113\n",
      "Kurtosis:                       4.167   Cond. No.                     3.79e+08\n",
      "==============================================================================\n",
      "\n",
      "Warnings:\n",
      "[1] Standard Errors assume that the covariance matrix of the errors is correctly specified.\n",
      "[2] The condition number is large, 3.79e+08. This might indicate that there are\n",
      "strong multicollinearity or other numerical problems.\n"
     ]
    }
   ],
   "source": [
    "##CODE IDENTIQUE A CELUI DU DESSUS MODIFICATION UNIQUEMENT SUR LES COLONNES RETENUE\n",
    "\n",
    "regr.fit(tabFinal.drop(columns=fichier.columnExp),tabFinal[fichier.columnExp])\n",
    "model = sm.OLS(tabFinal['Rating'],tabFinal.drop(columns='Rating')).fit()\n",
    "print_model = model.summary()\n",
    "print(print_model)"
   ]
  },
  {
   "cell_type": "markdown",
   "metadata": {},
   "source": [
    "<p>On constate que le R square s'est bien amélioré. Cependant il nous reste à retirer les variables quantitatives qui ne sont pas correlées avec le champ Rating</p>"
   ]
  },
  {
   "cell_type": "code",
   "execution_count": null,
   "metadata": {},
   "outputs": [
    {
     "name": "stdout",
     "output_type": "stream",
     "text": [
      "                            OLS Regression Results                            \n",
      "==============================================================================\n",
      "Dep. Variable:                 Rating   R-squared:                       0.629\n",
      "Model:                            OLS   Adj. R-squared:                  0.628\n",
      "Method:                 Least Squares   F-statistic:                     1055.\n",
      "Date:                Thu, 30 May 2019   Prob (F-statistic):               0.00\n",
      "Time:                        01:49:16   Log-Likelihood:                -19907.\n",
      "No. Observations:                8747   AIC:                         3.984e+04\n",
      "Df Residuals:                    8733   BIC:                         3.994e+04\n",
      "Df Model:                          14                                         \n",
      "Covariance Type:            nonrobust                                         \n",
      "===============================================================================\n",
      "                  coef    std err          t      P>|t|      [0.025      0.975]\n",
      "-------------------------------------------------------------------------------\n",
      "1+             -0.4378      0.307     -1.424      0.155      -1.041       0.165\n",
      "1,000,000+      2.9662      0.072     41.138      0.000       2.825       3.108\n",
      "10+             0.1094      0.126      0.865      0.387      -0.139       0.357\n",
      "10,000,000+     2.5810      0.090     28.554      0.000       2.404       2.758\n",
      "100+            1.1653      0.093     12.565      0.000       0.984       1.347\n",
      "100,000+        3.0766      0.077     39.892      0.000       2.925       3.228\n",
      "5+             -0.3578      0.280     -1.279      0.201      -0.906       0.191\n",
      "5,000,000+      2.7351      0.109     25.042      0.000       2.521       2.949\n",
      "50+             0.3401      0.169      2.015      0.044       0.009       0.671\n",
      "500+            1.9061      0.135     14.132      0.000       1.642       2.171\n",
      "BUSINESS        0.9624      0.124      7.775      0.000       0.720       1.205\n",
      "GAME            0.2550      0.089      2.880      0.004       0.081       0.429\n",
      "Reviews      5.065e-07   4.73e-08     10.699      0.000    4.14e-07    5.99e-07\n",
      "Size         4.447e-08   1.14e-09     39.144      0.000    4.22e-08    4.67e-08\n",
      "==============================================================================\n",
      "Omnibus:                      852.882   Durbin-Watson:                   1.311\n",
      "Prob(Omnibus):                  0.000   Jarque-Bera (JB):              255.763\n",
      "Skew:                          -0.062   Prob(JB):                     2.90e-56\n",
      "Kurtosis:                       2.171   Cond. No.                     3.76e+08\n",
      "==============================================================================\n",
      "\n",
      "Warnings:\n",
      "[1] Standard Errors assume that the covariance matrix of the errors is correctly specified.\n",
      "[2] The condition number is large, 3.76e+08. This might indicate that there are\n",
      "strong multicollinearity or other numerical problems.\n"
     ]
    }
   ],
   "source": [
    "##CODE IDENTIQUE A CELUI DU DESSUS MODIFICATION UNIQUEMENT SUR LES COLONNES RETENUE\n",
    "tabFinal = tabFinal.drop(columns=tabVariableAignorer)\n",
    "regr.fit(tabFinal.drop(columns=fichier.columnExp),tabFinal[fichier.columnExp])\n",
    "model = sm.OLS(tabFinal['Rating'],tabFinal.drop(columns='Rating')).fit()\n",
    "print_model = model.summary()\n",
    "print(print_model)"
   ]
  },
  {
   "cell_type": "markdown",
   "metadata": {},
   "source": [
    "<p>Malgré que le R square ait diminué de 0.2 , selon nous ce modele est plus pertinent car les variables ne servaient qu'à modéliser le bruit propre aux données d'entrainement</p><h3>En conclusion, faire une regression linéaire sur ce jeu de données est assez difficile. Et cela car peu de champs corrélaient avec le champ Rating , mais grace à la sur-representation d'application dans des catégories tels que les applications notées 0 dans la catégorie 10+ et le fait que le champ reviews est un minimum correlé avec le champ rating. Etant donné que la plupart des applications se situent dans un intervalle de notes, il serait peut etre plus judicieux d'effectuer une regression logistique multinomiale avec trois classes: mauvaise application , moyenne application , bonne application qu'on définirait selon un intervalle de notes</h3>"
   ]
  },
  {
   "cell_type": "markdown",
   "metadata": {},
   "source": [
    "\n",
    "# PARTIE 2 STUDENTS PERFORMANCE IN EXAMS"
   ]
  },
  {
   "cell_type": "code",
   "execution_count": null,
   "metadata": {},
   "outputs": [
    {
     "data": {
      "image/png": "[encoded data removed]",
      "text/plain": [
       "<Figure size 432x288 with 1 Axes>"
      ]
     },
     "metadata": {
      "needs_background": "light"
     },
     "output_type": "display_data"
    },
    {
     "data": {
      "image/png": "[encoded data removed]",
      "text/plain": [
       "<Figure size 432x288 with 1 Axes>"
      ]
     },
     "metadata": {
      "needs_background": "light"
     },
     "output_type": "display_data"
    }
   ],
   "source": [
    "a = csvToTab(\"StudentsPerformance.csv\",\",\",\"\",[\"gender\",\"race/ethnicity\",\"parental level of education\",\"lunch\",\"test preparation course\"],[\"math score\",\"reading score\",\"writing score\"],[])\n",
    "tabFinal = a.getTabReady(False,200,60)\n",
    "x=[]\n",
    "y=[]\n",
    "y1=[]\n",
    "for i in range(2,10): #Pour un nombre de composant de 2 à 10\n",
    "    kmeans = KMeans(n_clusters=i).fit(tabFinal) #On instancie l'algorithme kmean avec un nombre de centroid = à i\n",
    "    gauss = mixture.GaussianMixture(n_components=i)#On instancie l'algorithme de mixture gaussienne avec un nombre de gaussienne = à i\n",
    "    gauss.fit(tabFinal) #On entraine notre modele\n",
    "    y.append(kmeans.score(tabFinal))#On ajoute le score de notre modele kmean afin d'effectuer le tracer par la suite \n",
    "    x.append(i)\n",
    "    y1.append(gauss.score(tabFinal))#On ajoute le score de notre modele mixture gaussienne afin d'effectuer le tracer par la suite \n",
    "plt.plot(x,y)\n",
    "for i_x,i_y in zip(x,y):\n",
    "    plt.text(i_x,i_y,str(i_x))#Pour chaque point tracer on ajoute un label text qui correspond à son abscisse \n",
    "\n",
    "plt.show()\n",
    "plt.plot(x,y1)\n",
    "for i_x,i_y in zip(x,y1):\n",
    "    plt.text(i_x,i_y,str(i_x))\n",
    "plt.show()"
   ]
  },
  {
   "cell_type": "markdown",
   "metadata": {},
   "source": [
    "<p>Pour ces deux algorithmes on considérera uniquement les variables continues etant donné que les deux algorithmes utilisent une distance par rapport à une moyenne. L'apport d'un codage binaire n'apporterai pas grand chose sauf si on normalise toutes les données entre 0-1 mais là non plus cela n'aurait pas énormement de sens de mettre au meme degre d'importance les notes et l'appartenance à une catégorie</p>\n",
    "\n",
    "<p>On applique l'algorithme des k-mean sur le jeu de données qui permet de faire des groupements de points en fonction de centroide(calculée à partir de la moyenne de tous les point appartenant à ce centroide). L'algorithme cherche a minimiser la distance entre ces centroides et chaque point appartenant à ces centroide. L'algorithme de mixture gaussienne est en quelque sorte assez semblable au k-mean mais en moins brutal car chaque cluster correspondra à une gaussienne donc on prend en compte aussi un ecart type et une probabilité pour attribuer un point à un cluster ou un autre contrairemnt aux k-means qui ne tient en compte que de la distance par rapport aux centroides</p><br>\n",
    "\n",
    "<p>Afin de choisir le nombre de clusters on utilise le critere d'Elbow tant que l'ajout d'un cluster explique une part importante du jeu de données alors on prend en compte cet ajout et lorsque l'ajout d'un cluster n'apporte plus beaucoup d'informations alors on s'arrete</p><br>\n",
    "<img src=\"https://upload.wikimedia.org/wikipedia/commons/c/cd/DataClustering_ElbowCriterion.JPG\" /><br>\n",
    "<p>En effet si on prend comme exemple l'algorithme des k-mean on peut prendre comme k le nombre de points alors on aurait comme score une distance de 0(distance correspondant à la somme des distances des points par rapport à leur centroids) mais on perd l'interet d'utiliser un algorithme de clustering qui permet de rassembler les individus similaires </p>\n",
    "\n",
    "<strong>Ici donc pour l'algorithmes k-mean ainsi que celui de la mixture gaussienne on va retenir un nombre de clusters de 4 </strong>\n",
    "\n"
   ]
  },
  {
   "cell_type": "code",
   "execution_count": null,
   "metadata": {},
   "outputs": [],
   "source": [
    "kmeans = KMeans(n_clusters=4).fit(tabFinal) #On entraine notre algorithme aves nos donnée et un nombre de centroid = 4\n",
    "gauss = mixture.GaussianMixture(n_components=4)\n",
    "gauss.fit(tabFinal)#On entraine notre algorithme aves nos donnée et un nombre de gaussienne = 4\n",
    "i=0 \n",
    "individuWithLabel = {}\n",
    "for label in kmeans.predict(tabFinal): #Retourne le cluster d'appartenance de chaque individu\n",
    "    individuWithLabel[i] = label #On map chaque individu avec sont cluster d'appartenance \n",
    "    i=i+1\n",
    "dataFrameLabel = {}\n",
    "i=0\n",
    "for individu in individuWithLabel: #Pour chaque individu\n",
    "    try: #Si un dataframe existe pour le label de cette individu on l'ajoute à ce dataFrame\n",
    "        dataFrameLabel[individuWithLabel[individu]] = dataFrameLabel[individuWithLabel[individu]].append(tabFinal.iloc[i])\n",
    "    except KeyError : #Sinon on le crée est on l'ajoute\n",
    "        dataFrameLabel[individuWithLabel[individu]]=pd.DataFrame()\n",
    "        dataFrameLabel[individuWithLabel[individu]] = dataFrameLabel[individuWithLabel[individu]].append(tabFinal.iloc[i])\n",
    "\n",
    "    i=i+1"
   ]
  },
  {
   "cell_type": "markdown",
   "metadata": {},
   "source": [
    "<p>Afin de visualiser le clustering effectué par l'algorithme k-mean nous allons regrouper tous les individus avec un label identique et les mettre dans des dataframes isolés</p>"
   ]
  },
  {
   "cell_type": "code",
   "execution_count": null,
   "metadata": {},
   "outputs": [
    {
     "name": "stdout",
     "output_type": "stream",
     "text": [
      "Label :0\n"
     ]
    },
    {
     "data": {
      "text/html": [
       "<table border=\"1\" class=\"dataframe\">\n",
       "  <thead>\n",
       "    <tr style=\"text-align: right;\">\n",
       "      <th></th>\n",
       "      <th>math score</th>\n",
       "      <th>reading score</th>\n",
       "      <th>writing score</th>\n",
       "    </tr>\n",
       "  </thead>\n",
       "  <tbody>\n",
       "    <tr>\n",
       "      <th>0</th>\n",
       "      <td>72.0</td>\n",
       "      <td>72.0</td>\n",
       "      <td>74.0</td>\n",
       "    </tr>\n",
       "    <tr>\n",
       "      <th>4</th>\n",
       "      <td>76.0</td>\n",
       "      <td>78.0</td>\n",
       "      <td>75.0</td>\n",
       "    </tr>\n",
       "    <tr>\n",
       "      <th>5</th>\n",
       "      <td>71.0</td>\n",
       "      <td>83.0</td>\n",
       "      <td>78.0</td>\n",
       "    </tr>\n",
       "    <tr>\n",
       "      <th>12</th>\n",
       "      <td>65.0</td>\n",
       "      <td>81.0</td>\n",
       "      <td>73.0</td>\n",
       "    </tr>\n",
       "    <tr>\n",
       "      <th>13</th>\n",
       "      <td>78.0</td>\n",
       "      <td>72.0</td>\n",
       "      <td>70.0</td>\n",
       "    </tr>\n",
       "  </tbody>\n",
       "</table>"
      ],
      "text/plain": [
       "<IPython.core.display.HTML object>"
      ]
     },
     "metadata": {},
     "output_type": "display_data"
    },
    {
     "name": "stdout",
     "output_type": "stream",
     "text": [
      "math score: moyenne :71.36516853932584 Variance :54.801487577148265\n",
      "reading score: moyenne :74.93820224719101 Variance :27.235606899825928\n",
      "writing score: moyenne :73.99438202247191 Variance :29.425320462098433\n",
      "\n",
      "\n",
      "Label :2\n"
     ]
    },
    {
     "data": {
      "text/html": [
       "<table border=\"1\" class=\"dataframe\">\n",
       "  <thead>\n",
       "    <tr style=\"text-align: right;\">\n",
       "      <th></th>\n",
       "      <th>math score</th>\n",
       "      <th>reading score</th>\n",
       "      <th>writing score</th>\n",
       "    </tr>\n",
       "  </thead>\n",
       "  <tbody>\n",
       "    <tr>\n",
       "      <th>1</th>\n",
       "      <td>69.0</td>\n",
       "      <td>90.0</td>\n",
       "      <td>88.0</td>\n",
       "    </tr>\n",
       "    <tr>\n",
       "      <th>2</th>\n",
       "      <td>90.0</td>\n",
       "      <td>95.0</td>\n",
       "      <td>93.0</td>\n",
       "    </tr>\n",
       "    <tr>\n",
       "      <th>6</th>\n",
       "      <td>88.0</td>\n",
       "      <td>95.0</td>\n",
       "      <td>92.0</td>\n",
       "    </tr>\n",
       "    <tr>\n",
       "      <th>16</th>\n",
       "      <td>88.0</td>\n",
       "      <td>89.0</td>\n",
       "      <td>86.0</td>\n",
       "    </tr>\n",
       "    <tr>\n",
       "      <th>34</th>\n",
       "      <td>97.0</td>\n",
       "      <td>87.0</td>\n",
       "      <td>82.0</td>\n",
       "    </tr>\n",
       "  </tbody>\n",
       "</table>"
      ],
      "text/plain": [
       "<IPython.core.display.HTML object>"
      ]
     },
     "metadata": {},
     "output_type": "display_data"
    },
    {
     "name": "stdout",
     "output_type": "stream",
     "text": [
      "math score: moyenne :85.48924731182795 Variance :53.48366753850616\n",
      "reading score: moyenne :88.83333333333333 Variance :34.56126126126126\n",
      "writing score: moyenne :88.19354838709677 Variance :42.48125544899738\n",
      "\n",
      "\n",
      "Label :3\n"
     ]
    },
    {
     "data": {
      "text/html": [
       "<table border=\"1\" class=\"dataframe\">\n",
       "  <thead>\n",
       "    <tr style=\"text-align: right;\">\n",
       "      <th></th>\n",
       "      <th>math score</th>\n",
       "      <th>reading score</th>\n",
       "      <th>writing score</th>\n",
       "    </tr>\n",
       "  </thead>\n",
       "  <tbody>\n",
       "    <tr>\n",
       "      <th>3</th>\n",
       "      <td>47.0</td>\n",
       "      <td>57.0</td>\n",
       "      <td>44.0</td>\n",
       "    </tr>\n",
       "    <tr>\n",
       "      <th>7</th>\n",
       "      <td>40.0</td>\n",
       "      <td>43.0</td>\n",
       "      <td>39.0</td>\n",
       "    </tr>\n",
       "    <tr>\n",
       "      <th>9</th>\n",
       "      <td>38.0</td>\n",
       "      <td>60.0</td>\n",
       "      <td>50.0</td>\n",
       "    </tr>\n",
       "    <tr>\n",
       "      <th>11</th>\n",
       "      <td>40.0</td>\n",
       "      <td>52.0</td>\n",
       "      <td>43.0</td>\n",
       "    </tr>\n",
       "    <tr>\n",
       "      <th>17</th>\n",
       "      <td>18.0</td>\n",
       "      <td>32.0</td>\n",
       "      <td>28.0</td>\n",
       "    </tr>\n",
       "  </tbody>\n",
       "</table>"
      ],
      "text/plain": [
       "<IPython.core.display.HTML object>"
      ]
     },
     "metadata": {},
     "output_type": "display_data"
    },
    {
     "name": "stdout",
     "output_type": "stream",
     "text": [
      "math score: moyenne :44.78481012658228 Variance :93.07441747964204\n",
      "reading score: moyenne :47.17088607594937 Variance :63.08526163025077\n",
      "writing score: moyenne :44.78481012658228 Variance :61.32919454970572\n",
      "\n",
      "\n",
      "Label :1\n"
     ]
    },
    {
     "data": {
      "text/html": [
       "<table border=\"1\" class=\"dataframe\">\n",
       "  <thead>\n",
       "    <tr style=\"text-align: right;\">\n",
       "      <th></th>\n",
       "      <th>math score</th>\n",
       "      <th>reading score</th>\n",
       "      <th>writing score</th>\n",
       "    </tr>\n",
       "  </thead>\n",
       "  <tbody>\n",
       "    <tr>\n",
       "      <th>8</th>\n",
       "      <td>64.0</td>\n",
       "      <td>64.0</td>\n",
       "      <td>67.0</td>\n",
       "    </tr>\n",
       "    <tr>\n",
       "      <th>10</th>\n",
       "      <td>58.0</td>\n",
       "      <td>54.0</td>\n",
       "      <td>52.0</td>\n",
       "    </tr>\n",
       "    <tr>\n",
       "      <th>14</th>\n",
       "      <td>50.0</td>\n",
       "      <td>53.0</td>\n",
       "      <td>58.0</td>\n",
       "    </tr>\n",
       "    <tr>\n",
       "      <th>19</th>\n",
       "      <td>54.0</td>\n",
       "      <td>58.0</td>\n",
       "      <td>61.0</td>\n",
       "    </tr>\n",
       "    <tr>\n",
       "      <th>20</th>\n",
       "      <td>66.0</td>\n",
       "      <td>69.0</td>\n",
       "      <td>63.0</td>\n",
       "    </tr>\n",
       "  </tbody>\n",
       "</table>"
      ],
      "text/plain": [
       "<IPython.core.display.HTML object>"
      ]
     },
     "metadata": {},
     "output_type": "display_data"
    },
    {
     "name": "stdout",
     "output_type": "stream",
     "text": [
      "math score: moyenne :59.21739130434783 Variance :52.398891158447604\n",
      "reading score: moyenne :61.86622073578595 Variance :27.136405467890768\n",
      "writing score: moyenne :60.94314381270903 Variance :35.906152499382706\n",
      "\n",
      "\n"
     ]
    },
    {
     "data": {
      "image/png": "[encoded data removed]",
      "text/plain": [
       "<Figure size 432x288 with 1 Axes>"
      ]
     },
     "metadata": {
      "needs_background": "light"
     },
     "output_type": "display_data"
    }
   ],
   "source": [
    "dictPointLabel ={} #Dictionnaire des point qui vont etre représenter en dimension 3 selon leur label\n",
    "for label in dataFrameLabel:\n",
    "    print(\"Label :\" + str(label)) #Affichage du label en cours de traitement\n",
    "    display(HTML(dataFrameLabel[label].head(5).to_html())) #Affichage du dataframe sous format HTML\n",
    "    dictPointLabel[label] = [dataFrameLabel[label].head(50)['math score'],dataFrameLabel[label].head(50)['reading score'],dataFrameLabel[label].head(50)['writing score']]#Ajout d'un certains nombre de point qui vont etre représenter par la suite  \n",
    "    for col in dataFrameLabel[label].axes[1]: #Pour chaque dimentsion on calcule la moyenne et la variance et on affiche\n",
    "        print(col +\": moyenne :\" + str(dataFrameLabel[label][col].mean()) + \" Variance :\" +str(dataFrameLabel[label][col].var()))\n",
    "    print(\"\\n\")\n",
    "fig = plt.figure() #Création d'une figure\n",
    "ax = fig.add_subplot(111, projection='3d') #On ajoute a notre figure un subplot\n",
    "ax.set_xlabel('Math Score')\n",
    "ax.set_ylabel('Reading Score')\n",
    "ax.set_zlabel('Writting Score')\n",
    "for label in dictPointLabel:\n",
    "    ax.scatter(dictPointLabel[label][0],dictPointLabel[label][1],dictPointLabel[label][2]) #On trace nos point \n",
    "plt.show()\n"
   ]
  },
  {
   "cell_type": "markdown",
   "metadata": {},
   "source": [
    "<p>On constate que les individus étaient bien segmentés lors de l'execution aujourd'hui le <strong>Label 0</strong> correspond à des etudiants qui auront d'excellente note >85 le <strong>Label 1</strong> des etudiants plutot faible avec des notes de >30 à 50 , le <strong>label 3</strong> des etudaints moyen avec des notes >50 et inférieures à 70 et le <strong>Label2</strong> avec de bons éleves avec des notes >70 et inferieures à 90"
   ]
  },
  {
   "cell_type": "code",
   "execution_count": null,
   "metadata": {},
   "outputs": [],
   "source": [
    "##CODE IDENTIQUE A CELUI DU DESSUS CHANGEMENT AVEC MIXTURE GAUSSIENNE\n",
    "i=0\n",
    "dictPointLabel ={}\n",
    "individuWithLabel = {}\n",
    "for label in gauss.predict(tabFinal):\n",
    "    individuWithLabel[i] = label\n",
    "    i=i+1\n",
    "dataFrameLabel = {}\n",
    "i=0\n",
    "for individu in individuWithLabel:\n",
    "    try:\n",
    "        dataFrameLabel[individuWithLabel[individu]] = dataFrameLabel[individuWithLabel[individu]].append(tabFinal.iloc[i])\n",
    "    except KeyError :\n",
    "        dataFrameLabel[individuWithLabel[individu]]=pd.DataFrame()\n",
    "    i=i+1"
   ]
  },
  {
   "cell_type": "code",
   "execution_count": null,
   "metadata": {
    "scrolled": true
   },
   "outputs": [
    {
     "name": "stdout",
     "output_type": "stream",
     "text": [
      "Label :0\n"
     ]
    },
    {
     "data": {
      "text/html": [
       "<table border=\"1\" class=\"dataframe\">\n",
       "  <thead>\n",
       "    <tr style=\"text-align: right;\">\n",
       "      <th></th>\n",
       "      <th>math score</th>\n",
       "      <th>reading score</th>\n",
       "      <th>writing score</th>\n",
       "    </tr>\n",
       "  </thead>\n",
       "  <tbody>\n",
       "    <tr>\n",
       "      <th>4</th>\n",
       "      <td>76.0</td>\n",
       "      <td>78.0</td>\n",
       "      <td>75.0</td>\n",
       "    </tr>\n",
       "    <tr>\n",
       "      <th>5</th>\n",
       "      <td>71.0</td>\n",
       "      <td>83.0</td>\n",
       "      <td>78.0</td>\n",
       "    </tr>\n",
       "    <tr>\n",
       "      <th>8</th>\n",
       "      <td>64.0</td>\n",
       "      <td>64.0</td>\n",
       "      <td>67.0</td>\n",
       "    </tr>\n",
       "    <tr>\n",
       "      <th>12</th>\n",
       "      <td>65.0</td>\n",
       "      <td>81.0</td>\n",
       "      <td>73.0</td>\n",
       "    </tr>\n",
       "    <tr>\n",
       "      <th>13</th>\n",
       "      <td>78.0</td>\n",
       "      <td>72.0</td>\n",
       "      <td>70.0</td>\n",
       "    </tr>\n",
       "  </tbody>\n",
       "</table>"
      ],
      "text/plain": [
       "<IPython.core.display.HTML object>"
      ]
     },
     "metadata": {},
     "output_type": "display_data"
    },
    {
     "name": "stdout",
     "output_type": "stream",
     "text": [
      "math score: moyenne :68.97176470588235 Variance :58.371842397336536\n",
      "reading score: moyenne :72.9835294117647 Variance :35.80869034406192\n",
      "writing score: moyenne :72.29176470588236 Variance :33.82033296337405\n",
      "\n",
      "\n",
      "Label :1\n"
     ]
    },
    {
     "data": {
      "text/html": [
       "<table border=\"1\" class=\"dataframe\">\n",
       "  <thead>\n",
       "    <tr style=\"text-align: right;\">\n",
       "      <th></th>\n",
       "      <th>math score</th>\n",
       "      <th>reading score</th>\n",
       "      <th>writing score</th>\n",
       "    </tr>\n",
       "  </thead>\n",
       "  <tbody>\n",
       "    <tr>\n",
       "      <th>2</th>\n",
       "      <td>90.0</td>\n",
       "      <td>95.0</td>\n",
       "      <td>93.0</td>\n",
       "    </tr>\n",
       "    <tr>\n",
       "      <th>6</th>\n",
       "      <td>88.0</td>\n",
       "      <td>95.0</td>\n",
       "      <td>92.0</td>\n",
       "    </tr>\n",
       "    <tr>\n",
       "      <th>16</th>\n",
       "      <td>88.0</td>\n",
       "      <td>89.0</td>\n",
       "      <td>86.0</td>\n",
       "    </tr>\n",
       "    <tr>\n",
       "      <th>34</th>\n",
       "      <td>97.0</td>\n",
       "      <td>87.0</td>\n",
       "      <td>82.0</td>\n",
       "    </tr>\n",
       "    <tr>\n",
       "      <th>35</th>\n",
       "      <td>81.0</td>\n",
       "      <td>81.0</td>\n",
       "      <td>79.0</td>\n",
       "    </tr>\n",
       "  </tbody>\n",
       "</table>"
      ],
      "text/plain": [
       "<IPython.core.display.HTML object>"
      ]
     },
     "metadata": {},
     "output_type": "display_data"
    },
    {
     "name": "stdout",
     "output_type": "stream",
     "text": [
      "math score: moyenne :85.20975609756097 Variance :50.637159253945505\n",
      "reading score: moyenne :87.8048780487805 Variance :41.68723098995693\n",
      "writing score: moyenne :87.29268292682927 Variance :46.64921090387375\n",
      "\n",
      "\n",
      "Label :3\n"
     ]
    },
    {
     "data": {
      "text/html": [
       "<table border=\"1\" class=\"dataframe\">\n",
       "  <thead>\n",
       "    <tr style=\"text-align: right;\">\n",
       "      <th></th>\n",
       "      <th>math score</th>\n",
       "      <th>reading score</th>\n",
       "      <th>writing score</th>\n",
       "    </tr>\n",
       "  </thead>\n",
       "  <tbody>\n",
       "    <tr>\n",
       "      <th>9</th>\n",
       "      <td>38.0</td>\n",
       "      <td>60.0</td>\n",
       "      <td>50.0</td>\n",
       "    </tr>\n",
       "    <tr>\n",
       "      <th>10</th>\n",
       "      <td>58.0</td>\n",
       "      <td>54.0</td>\n",
       "      <td>52.0</td>\n",
       "    </tr>\n",
       "    <tr>\n",
       "      <th>11</th>\n",
       "      <td>40.0</td>\n",
       "      <td>52.0</td>\n",
       "      <td>43.0</td>\n",
       "    </tr>\n",
       "    <tr>\n",
       "      <th>14</th>\n",
       "      <td>50.0</td>\n",
       "      <td>53.0</td>\n",
       "      <td>58.0</td>\n",
       "    </tr>\n",
       "    <tr>\n",
       "      <th>19</th>\n",
       "      <td>54.0</td>\n",
       "      <td>58.0</td>\n",
       "      <td>61.0</td>\n",
       "    </tr>\n",
       "  </tbody>\n",
       "</table>"
      ],
      "text/plain": [
       "<IPython.core.display.HTML object>"
      ]
     },
     "metadata": {},
     "output_type": "display_data"
    },
    {
     "name": "stdout",
     "output_type": "stream",
     "text": [
      "math score: moyenne :55.13265306122449 Variance :67.84241136727724\n",
      "reading score: moyenne :57.816326530612244 Variance :29.01051751758726\n",
      "writing score: moyenne :55.802721088435376 Variance :35.913166631840426\n",
      "\n",
      "\n",
      "Label :2\n"
     ]
    },
    {
     "data": {
      "text/html": [
       "<table border=\"1\" class=\"dataframe\">\n",
       "  <thead>\n",
       "    <tr style=\"text-align: right;\">\n",
       "      <th></th>\n",
       "      <th>math score</th>\n",
       "      <th>reading score</th>\n",
       "      <th>writing score</th>\n",
       "    </tr>\n",
       "  </thead>\n",
       "  <tbody>\n",
       "    <tr>\n",
       "      <th>17</th>\n",
       "      <td>18.0</td>\n",
       "      <td>32.0</td>\n",
       "      <td>28.0</td>\n",
       "    </tr>\n",
       "    <tr>\n",
       "      <th>18</th>\n",
       "      <td>46.0</td>\n",
       "      <td>42.0</td>\n",
       "      <td>46.0</td>\n",
       "    </tr>\n",
       "    <tr>\n",
       "      <th>33</th>\n",
       "      <td>40.0</td>\n",
       "      <td>42.0</td>\n",
       "      <td>38.0</td>\n",
       "    </tr>\n",
       "    <tr>\n",
       "      <th>52</th>\n",
       "      <td>53.0</td>\n",
       "      <td>44.0</td>\n",
       "      <td>42.0</td>\n",
       "    </tr>\n",
       "    <tr>\n",
       "      <th>55</th>\n",
       "      <td>33.0</td>\n",
       "      <td>41.0</td>\n",
       "      <td>43.0</td>\n",
       "    </tr>\n",
       "  </tbody>\n",
       "</table>"
      ],
      "text/plain": [
       "<IPython.core.display.HTML object>"
      ]
     },
     "metadata": {},
     "output_type": "display_data"
    },
    {
     "name": "stdout",
     "output_type": "stream",
     "text": [
      "math score: moyenne :40.436619718309856 Variance :125.44949698189141\n",
      "reading score: moyenne :40.478873239436616 Variance :43.653118712273645\n",
      "writing score: moyenne :39.070422535211264 Variance :54.18068410462781\n",
      "\n",
      "\n"
     ]
    },
    {
     "data": {
      "image/png": "[encoded data removed]",
      "text/plain": [
       "<Figure size 432x288 with 1 Axes>"
      ]
     },
     "metadata": {
      "needs_background": "light"
     },
     "output_type": "display_data"
    }
   ],
   "source": [
    "##CODE IDENTIQUE A CELUI DU DESSUS CHANGEMENT AVEC MIXTURE GAUSSIENNE\n",
    "for label in dataFrameLabel:\n",
    "    print(\"Label :\" + str(label))\n",
    "    display(HTML(dataFrameLabel[label].head(5).to_html()))\n",
    "    dictPointLabel[label] = [dataFrameLabel[label].head(50)['math score'],dataFrameLabel[label].head(50)['reading score'],dataFrameLabel[label].head(50)['writing score']]\n",
    "    for col in dataFrameLabel[label].axes[1]:\n",
    "        print(col +\": moyenne :\" + str(dataFrameLabel[label][col].mean()) + \" Variance :\" +str(dataFrameLabel[label][col].var()))\n",
    "    print(\"\\n\")\n",
    "fig = plt.figure()\n",
    "ax = fig.add_subplot(111, projection='3d')\n",
    "ax.set_xlabel('Math Score')\n",
    "ax.set_ylabel('Reading Score')\n",
    "ax.set_zlabel('Writting Score')\n",
    "for label in dictPointLabel:\n",
    "    ax.scatter(dictPointLabel[label][0],dictPointLabel[label][1],dictPointLabel[label][2])\n",
    "plt.show()"
   ]
  },
  {
   "cell_type": "markdown",
   "metadata": {},
   "source": [
    "<p>On constate que les deux clusterings sont assez équivalents cependant que dans les cluster de la mixture gaussienne la variance est tres légerement plus élevée etant donné que l'attribution d'un individu à un cluster est moins strict qu'une simple distance par rapport à un centroid. Cependant ce n'est pas significatif pour ce jeu de données<p><br>\n",
    "<p>Cependant parfois cela peut etre différent, exemple en image :</p>\n",
    "<img src=\"https://i.stack.imgur.com/FAEfU.png\" /><br>\n",
    "<img src=\"https://i.stack.imgur.com/onXZr.png\" /><br>\n",
    "\n"
   ]
  },
  {
   "cell_type": "markdown",
   "metadata": {},
   "source": [
    "<h3>Ensuite, on cherchera à prédire si le « math score » est supérieur au score médian, en fonction des autres variables. Ca sera donc un problème de classification bi-classe: la classe 0 (math score inférieur au score médian) et la classe 1 (math score supérieur ou égal au score médian).</h3>"
   ]
  },
  {
   "cell_type": "code",
   "execution_count": null,
   "metadata": {},
   "outputs": [],
   "source": [
    "class Element:\n",
    "    def __init__(self,row,classe,primaryKey):\n",
    "        self.row=row\n",
    "        self.classe=classe\n",
    "        self.id=primaryKey"
   ]
  },
  {
   "cell_type": "markdown",
   "metadata": {},
   "source": [
    "Classe qui représente un individu lors d'un apprentissage supervisé <br>\n",
    "Arguments du constructeur<br>\n",
    "<b>row:</b><i> Attribut de l'individu</i><br>\n",
    "<b>classe:</b><i> Classe à laquel appartient l'individu</i><br>\n",
    "<b>primaryKey:</b><i> Identifiant unique de l'individu</i><br>"
   ]
  },
  {
   "cell_type": "code",
   "execution_count": null,
   "metadata": {},
   "outputs": [],
   "source": [
    "class kproche:\n",
    "    def __init__(self,number,setElement,nombreExtraction,tableauClasse):\n",
    "        self.nombre=number #Nombre k \n",
    "        self.test=[] #Ensemble de test\n",
    "        self.set=setElement #Ensemble de décision dex proches voisin\n",
    "        self.tab=tableauClasse #Tableau des classe des individus\n",
    "        for i in range(0,nombreExtraction): #Pour le nombre d'extraaction à effectuer\n",
    "            entier=randint(0,len(self.set)) #On choisis un indivu au hasard dans notre ensemble de départ\n",
    "            self.test.append(self.set[entier])#On l'ajoute dans notre ensemble de test\n",
    "            del self.set[entier] #On le supprime de notre ensemble de départ\n",
    "    def predict(self,point):\n",
    "        dictDist={} #Map des distance entre le point à prédire est tout les autres \n",
    "        index=0\n",
    "        for val in self.set: #Pour tous les individus \n",
    "            dictDist[index]=distance.euclidean(point,val.row) #On calcul la distance euclidienne entre cette individu et le point qu'on cherche à prédire\n",
    "            index=index+1\n",
    "        sorted_x = sorted(dictDist.items(), key=lambda tupl: tupl[1]) #On trie nos distance par rapprot aux distance\n",
    "        dictionnaireVote = {} #Dictionnaire qui représente le nombre de \"vote\" des voisin pour savoir quelle classe est majoritaire chez les voisin\n",
    "        for classe in self.tab: #Pour chaque classe de nos individus\n",
    "            dictionnaireVote[classe]=0 #On initialise à 0 le nombre de vote de chaque classe\n",
    "            \n",
    "        for i in range(0,self.nombre): #Pour le nombre de voisin\n",
    "            for classe in self.tab:\n",
    "                if (self.set[sorted_x[i][0]].classe == classe): #Si l'individu i le  plus proche(o as trier sorted_x) appartient à cette classe on incremente le nombre de vote\n",
    "                    dictionnaireVote[classe] = dictionnaireVote[classe] + 1 \n",
    "        \n",
    "        sorted_x = sorted(dictionnaireVote.items(), key=lambda tupl: tupl[1],reverse=True) #On trie nos vote de facon décroissante pour retenir la classe qui as le plus de vote \n",
    "        return(sorted_x[0][0]) #On renvoie la premiere valeur du tableau qui correpond à la classe ayant eu le plus de vote \n",
    "    def score(self):\n",
    "        vrai = 0\n",
    "        if(len(self.test) == 0):#Si on as constituer un ensemble de test\n",
    "            for element in self.set: #Pour tous les individu test\n",
    "                classe = self.predict(element.row) #On prédit la classe d'appartenance de cette individu\n",
    "                if(classe == element.classe): #Si la classe prédite correspond bien à la classe de l'individu on incremente la variable vrai\n",
    "                    vrai=vrai+1\n",
    "            return vrai/len(self.set)\n",
    "        else:\n",
    "            for element in self.test:\n",
    "                classe = self.predict(element.row)\n",
    "                if(classe == element.classe):\n",
    "                    vrai=vrai+1\n",
    "            return vrai/len(self.test)\n",
    "            \n",
    "            \n",
    "        "
   ]
  },
  {
   "cell_type": "markdown",
   "metadata": {},
   "source": [
    "Classe qui nous permet d'instancier l'algorithme des k-proche\n",
    "Elle effectue un prelévement automatique parmi le jeu d'entrainement (les suppriment du jeu d'entrainement) afin par la suite d'effectuer des tests de scoring<br>\n",
    "Arguments du constructeur<br>\n",
    "<b>number:</b><i>Nombre k choisi</i><br>\n",
    "<b>setElement:</b><i>Ensemble d'elements de notre ensemble d'entrainement(type Element ci-dessus)</i><br>\n",
    "<b>nombreExtraction:</b><i>Nombre d'extractions à effectuer de notre ensemble d'elements de départ afin de constituer un ensemble de tests différents de celui d'entrainement</i><br>\n",
    "<b>tableauClasse:</b><i>Tableau de l'ensemble des classes de notre ensemble d'entrainements</i><br>\n",
    "<h3>Méthodes</h3>\n",
    "<li><b>predict:</b> Méthode qui permet de prédire l'appartenance d'un individu à une certaine classe en regardant ses k plus proches voisins. La classe d'appartenance de cet individu sera la classe majoritaire de ses voisins</li>\n",
    "<li><b>score:</b> Méthode qui permet de connaitre sur l'ensemble de test et non d'entrainement le taux de bonnes predictions compris entre 0 et 1</li>\n",
    "<h4>Arguments des méthodes</h4>\n",
    "<table>\n",
    "    <thead>\n",
    "        <tr>\n",
    "            <th>Arguments</th>\n",
    "            <th>METHODES : predict</th>\n",
    "        </tr>\n",
    "    </thead>\n",
    "    <tbody>\n",
    "        <tr>\n",
    "            <td>point</td>\n",
    "            <td>Individu sur lequel il faut déterminer la classe d'appartenance</td>\n",
    "        </tr>\n",
    "    </tbody>\n",
    "</table>\n"
   ]
  },
  {
   "cell_type": "code",
   "execution_count": null,
   "metadata": {},
   "outputs": [
    {
     "name": "stdout",
     "output_type": "stream",
     "text": [
      "Score de mon algorithme :0.74 Nombre Voisin :1\n",
      "Score de scikit :0.72 Nombre Voisin :1\n",
      "\n",
      "Score de mon algorithme :0.75 Nombre Voisin :2\n",
      "Score de scikit :0.79 Nombre Voisin :2\n",
      "\n",
      "Score de mon algorithme :0.8 Nombre Voisin :3\n",
      "Score de scikit :0.79 Nombre Voisin :3\n",
      "\n",
      "Score de mon algorithme :0.77 Nombre Voisin :4\n",
      "Score de scikit :0.79 Nombre Voisin :4\n",
      "\n",
      "Score de mon algorithme :0.72 Nombre Voisin :5\n",
      "Score de scikit :0.82 Nombre Voisin :5\n",
      "\n",
      "Score de mon algorithme :0.76 Nombre Voisin :6\n",
      "Score de scikit :0.83 Nombre Voisin :6\n",
      "\n",
      "Score de mon algorithme :0.77 Nombre Voisin :7\n",
      "Score de scikit :0.81 Nombre Voisin :7\n",
      "\n",
      "Score de mon algorithme :0.75 Nombre Voisin :8\n",
      "Score de scikit :0.84 Nombre Voisin :8\n",
      "\n",
      "Score de mon algorithme :0.76 Nombre Voisin :9\n",
      "Score de scikit :0.83 Nombre Voisin :9\n",
      "\n",
      "Score de mon algorithme :0.69 Nombre Voisin :10\n",
      "Score de scikit :0.83 Nombre Voisin :10\n",
      "\n",
      "Score de mon algorithme :0.77 Nombre Voisin :11\n",
      "Score de scikit :0.83 Nombre Voisin :11\n",
      "\n",
      "Score de mon algorithme :0.75 Nombre Voisin :12\n",
      "Score de scikit :0.83 Nombre Voisin :12\n",
      "\n",
      "Score de mon algorithme :0.79 Nombre Voisin :13\n",
      "Score de scikit :0.82 Nombre Voisin :13\n",
      "\n"
     ]
    }
   ],
   "source": [
    "a = csvToTab(\"StudentsPerformance.csv\",\",\",\"math score\",[\"gender\",\"race/ethnicity\",\"parental level of education\",\"lunch\",\"test preparation course\"],[\"reading score\",\"writing score\"],[])\n",
    "tab = a.getTabReady(False,200,60)\n",
    "tab = tab.drop(columns=a.columnExp)\n",
    "mediane = a.data[a.columnExp].median()\n",
    "classeElement=[]\n",
    "index=0\n",
    "pointXBlue = []\n",
    "pointYBlue = []\n",
    "pointXRed = []\n",
    "pointYRed = []\n",
    "for values in a.data[a.columnExp]: #Pour toutes les valeurs de la colonne a expliqquer\n",
    "    if(values>mediane): #Si la valeur est supérieur à la médiane on attribue cette individu a la classe 1 et on ces coordonées pour un affichage\n",
    "        \n",
    "        classeElement.append(Element(tab.loc[index],1,index))\n",
    "        a.data.at[index,a.columnExp]=1\n",
    "        pointXRed.append(a.data.at[index,'reading score'])\n",
    "        pointYRed.append(a.data.at[index,'writing score'])\n",
    "        \n",
    "        \n",
    "    else: #Sinon on l'attribue à la classe 0 \n",
    "        classeElement.append(Element(tab.loc[index],0,index))\n",
    "        a.data.at[index,a.columnExp]=0\n",
    "        pointXBlue.append(a.data.at[index,'reading score'])\n",
    "        pointYBlue.append(a.data.at[index,'writing score'])\n",
    "\n",
    "    index=index+1\n",
    "x=[]\n",
    "yMoi=[]\n",
    "for i in range(1,20) :\n",
    "    x.append(i)\n",
    "    neigh = KNeighborsClassifier(n_neighbors=i).fit(tab.tail(700),a.data[a.columnExp].tail(700)) #On instancie l'algorithme de k-meaan de scikit avec i voisin\n",
    "    moi=kproche(i,classeElement.copy(),100,[0,1])#On instancie notre algorithme avec i voisin\n",
    "    mScore = moi.score()\n",
    "    sScore=neigh.score(tab.head(100),a.data[a.columnExp].head(100))\n",
    "    yMoi.append(mScore)\n",
    "    print(\"Score de mon algorithme :\" + str(mScore) + \" Nombre Voisin :\" + str(i))\n",
    "    print(\"Score de scikit :\" + str(sScore)+ \" Nombre Voisin :\" + str(i) + \"\\n\")\n"
   ]
  },
  {
   "cell_type": "markdown",
   "metadata": {},
   "source": [
    "<p>On constate que les point doivent bien etre répartis dans l'espace car le taux d'erreur est de 15/100 en moyenne <strong>avec un tirage aléatoire d'elements qui n'ont pas participé à l'entrainement du modèle</strong> il n'y a donc pas de \"faux vote\"  c'est à dire la prédiction d'un point deja existant dans notre modèle,cela sous entend que les deux ensembles sont bien répartis dans l'espace. La note obtenue en reading et writing est bien discriminante pour savoir si l'etudiant a obtenu une note en maths > à la médiane ou pas. Le nombre de voisins influe sur la qualité du modèle, on peut jouer sur ce nombre de voisin pour adapter la sensibilité des individus situer à la frontiere des deux ensembles."
   ]
  },
  {
   "cell_type": "code",
   "execution_count": null,
   "metadata": {},
   "outputs": [],
   "source": [
    "plt.plot(x,yMoi)\n",
    "for i_x,i_y in zip(x,yMoi):\n",
    "    plt.text(i_x,i_y,str(i_x))\n",
    "plt.show()"
   ]
  },
  {
   "cell_type": "markdown",
   "metadata": {},
   "source": [
    "<p>On constate que le choix du nombre k de voisins n'est pas évident il doit y avoir des points à la frontière des deux ensembles qui se melent</p>"
   ]
  },
  {
   "cell_type": "code",
   "execution_count": null,
   "metadata": {},
   "outputs": [],
   "source": [
    "plt.plot(pointXBlue,pointYBlue,'bo',pointXRed,pointYRed,'ro',markersize=3)\n",
    "plt.plot([65,65], [0, 100], 'g-', lw=2)\n",
    "plt.show()"
   ]
  },
  {
   "cell_type": "markdown",
   "metadata": {},
   "source": [
    "<p>On constate que les points sont bien répartis, à partir de 65 on constate une forte densité d'etudiants avec une note en maths supérieure à la médiane et avant une forte densité d'étudiants avec une note en maths inférieure à la médiane</p> <p>Cet algorithme est performant pour ce jeu de données cependant il a une forte complexité étant donné qu'il faut à chaque nouvelle donnée, déterminer les plus proche voisins. Le jeu d'entrainement ne doit pas trop etre important en terme de données</p>"
   ]
  },
  {
   "cell_type": "code",
   "execution_count": null,
   "metadata": {},
   "outputs": [],
   "source": [
    "class BayesienNaif :\n",
    "    def __init__(self,setElement,nombreExtraction,tableauClasse):\n",
    "        self.test=[]\n",
    "        self.set=setElement\n",
    "\n",
    "        for i in range(0,nombreExtraction):\n",
    "            entier=randint(0,len(setElement)) #Meme fonctionnement que la classe k-proche\n",
    "            self.test.append(setElement[entier])\n",
    "            del setElement[entier]\n",
    "        dictProbClasse = {}\n",
    "        nbElementClasse= {}\n",
    "        self.classe=tableauClasse\n",
    "        for classe in tableauClasse:\n",
    "            dictProbClasse[classe]=0\n",
    "        for classe in tableauClasse: #Pour chaque classe\n",
    "            for element in setElement:\n",
    "                if(element.classe==classe):\n",
    "                    dictProbClasse[classe] =  dictProbClasse[classe] + 1 #Nombre d'individu appartenant à cette classe\n",
    "        for classe in tableauClasse:\n",
    "            nbElementClasse[classe]=dictProbClasse[classe] #Nombre d'individus dans chaque classe\n",
    "            dictProbClasse[classe]=dictProbClasse[classe]/len(setElement) #Propabilité d'appartenir à cette classe\n",
    "        dictProbCaraSachantClasse = {}\n",
    "        for cara in setElement[0].row.index:\n",
    "            for classe in tableauClasse:\n",
    "                dictProbCaraSachantClasse[cara,classe] = 0 #Pour chaque modalité appartenant à une classe on initialise à 0\n",
    "        for classe in tableauClasse:\n",
    "            for element in setElement:\n",
    "                for cara in element.row.index:\n",
    "                    if(element.classe == classe): #Si l'element appartient à la classe\n",
    "                        dictProbCaraSachantClasse[cara,classe] = dictProbCaraSachantClasse[cara,classe] + element.row[cara] #On ajoute 1 ou 0 si l'individu pour cette classe à la modalite ou pas \n",
    "                    else:\n",
    "                        break #Si l'individu n'appartient pas a la classe on passe à l'individu suivant \n",
    "        for car,classe in dictProbCaraSachantClasse:\n",
    "            dictProbCaraSachantClasse[car,classe] = dictProbCaraSachantClasse[car,classe]/nbElementClasse[classe] #On divisse le nombre d'individu pour cette modalité et cette classe / le nombre d'individu dans cette classe afin d'obtenir la probabilité conditionnelle\n",
    "        self.dictProbCara = dictProbCaraSachantClasse\n",
    "        self.dictProbClasse = dictProbClasse\n",
    "    def predict(self,element):\n",
    "        dictProbAppart = {}\n",
    "        for classe1 in self.classe:\n",
    "            dictProbAppart[classe1]=1\n",
    "            for cara in element.row.index:\n",
    "                if(element.row[cara] == 1):\n",
    "                    dictProbAppart[classe1]=dictProbAppart[classe1]*(self.dictProbCara[cara,classe1])#On effectue le produit de toutes les probabilité conditionnelle de cette individu\n",
    "                dictProbAppart[classe1] = dictProbAppart[classe1]*self.dictProbClasse[classe1]#On multiplie par la propabilité d'appartennir à la classe\n",
    "\n",
    "        best = -1 #Initialisation de la meilleur probabilité (toutes les probabilité seront supérieur ou égale a 0)\n",
    "        returnV=99\n",
    "        for classe in dictProbAppart:\n",
    "            if(best < dictProbAppart[classe]): #Si une meilleur probabilité\n",
    "                best = dictProbAppart[classe]\n",
    "                returnV=classe\n",
    "        return returnV #Classe la plus probable\n",
    "    def score(self):#Meme fonctionnement que la classe k-proche\n",
    "        vrai = 0\n",
    "        if(len(self.test) == 0):\n",
    "            for element in self.set:\n",
    "                classe = self.predict(element)\n",
    "                \n",
    "                if(classe == element.classe):\n",
    "                    vrai=vrai+1\n",
    "            return vrai/len(self.set)\n",
    "        else:\n",
    "            for element in self.test:\n",
    "                classe = self.predict(element)\n",
    "                if(classe == element.classe):\n",
    "                    vrai=vrai+1\n",
    "            return vrai/len(self.test)"
   ]
  },
  {
   "cell_type": "markdown",
   "metadata": {},
   "source": [
    "Classe qui nous permet d'instancier l'algorithmes Bayesien Naif sur des variables catégorielles. Elle effectue un prelévement automatique parmi le jeu d'entrainement (les suppriment du jeu d'entrainement) afin par la suite d'effectuer des tests de scoring<br>\n",
    "Arguments du constructeur<br>\n",
    "<b>setElement:</b><i>Ensemble d'elements de notre ensemble d'entrainement(type Element ci-dessus)</i><br>\n",
    "<b>nombreExtraction:</b><i>Nombre d'extractions à effectuer de notre ensemble d'elements de départ afin de constituer un ensemble de tests différents de celui d'entrainement</i><br>\n",
    "<b>tableauClasse:</b><i>Tableau de l'ensemble des classes de notre ensemble d'entrainements</i><br>\n",
    "<h3>Méthodes</h3>\n",
    "<li><b>predict:</b> Méthode qui permet de prédire l'appartenance d'un individu à une certaine classe en maximisant la probabilité d'appartenance à cette classe selon ses caractéristiques</li>\n",
    "<li><b>score:</b> Méthode qui permet de connaitre sur l'ensemble de tests et non d'entrainement le taux de bonnes predictions compris entre 0 et 1</li>\n",
    "<h4>Arguments des méthodes</h4>\n",
    "<table>\n",
    "    <thead>\n",
    "        <tr>\n",
    "            <th>Arguments</th>\n",
    "            <th>METHODES : predict</th>\n",
    "        </tr>\n",
    "    </thead>\n",
    "    <tbody>\n",
    "        <tr>\n",
    "            <td>element</td>\n",
    "            <td>Individu surlequel il faut déterminer la classe d'appartenance</td>\n",
    "        </tr>\n",
    "    </tbody>\n",
    "</table>\n"
   ]
  },
  {
   "cell_type": "markdown",
   "metadata": {},
   "source": [
    "<p>Cette classe nous permet de calculer les <strong>propabilitées conditionelles</strong> des modalités des variables catégorielles par rapport à la classe d'appartennance, ainsi que les probabilités d'appartenance à chacune des classes, ensuite la prédiction sélectionne la propabilité de la plus haute appartenance à une classe n selon les caracteristiques d'un individu qui pour cette seront suposées <strong>indépendantes</strong></p><br>\n",
    "<p>A partir du théorème de Bayes la probabilité d'appartenir à la classe y sachant les caractéristique Xi équivaut à :</p>\n",
    "\\begin{align}P(y \\mid x_1, \\dots, x_n) = \\frac{P(y) \\prod_{i=1}^{n} P(x_i \\mid y)}\n",
    "                                 {P(x_1, \\dots, x_n)}\\end{align}\n",
    "<p>Etant donnée que le dénominateur ne dépend que des caractéristiques on peut l'omettre de l'équation car on peut le considérer comme une constante qui ne nous intéresse pas dans notre problème de maximisation , ce qui revient à trouver l'argument y qui maximise : </p>\n",
    "\\begin{align}\\begin{aligned}P(y \\mid x_1, \\dots, x_n) \\propto P(y) \\prod_{i=1}^{n} P(x_i \\mid y)\\\\\\Downarrow\\\\\\hat{y} = \\arg\\max_y P(y) \\prod_{i=1}^{n} P(x_i \\mid y),\\end{aligned}\\end{align}"
   ]
  },
  {
   "cell_type": "code",
   "execution_count": null,
   "metadata": {
    "scrolled": true
   },
   "outputs": [],
   "source": [
    "##MEME FONCTIONNEMENT QUE CELLULE 57\n",
    "\n",
    "a = csvToTab(\"StudentsPerformance.csv\",\",\",\"math score\",[\"reading score\",\"writing score\"],[],[\"gender\",\"race/ethnicity\",\"parental level of education\",\"lunch\",\"test preparation course\"])\n",
    "tab = a.getTabReady(False,200,60)\n",
    "tab = tab.drop(columns=a.columnExp)\n",
    "mediane = a.data[a.columnExp].median()\n",
    "classeElement=[]\n",
    "index=0\n",
    "\n",
    "for values in a.data[a.columnExp]:\n",
    "    if(values>mediane):\n",
    "        classeElement.append(Element(tab.loc[index],1,index))\n",
    "        a.data.at[index,a.columnExp]=1\n",
    "    else:\n",
    "        classeElement.append(Element(tab.loc[index],0,index))\n",
    "        a.data.at[index,a.columnExp]=0\n",
    "    index=index+1\n",
    "\n",
    "moi=BayesienNaif(classeElement.copy(),0,[0,1])\n",
    "gnb = GaussianNB()\n",
    "gnb.fit(tab,a.data[a.columnExp])\n",
    "mScore = moi.score()\n",
    "sScore=gnb.score(tab,a.data[a.columnExp])\n",
    "print(\"Score de mon algorithme :\" + str(mScore))\n",
    "print(\"Score de scikit :\" + str(sScore)+ \"\\n\")\n"
   ]
  },
  {
   "cell_type": "markdown",
   "metadata": {},
   "source": [
    "<p>Nous constatons que ce modèle n'est pas du tout adapté car il arrive seulement à prédire la classe d'appartenance à seulement 64% , etant donné que nous sommes dans un modèle bi-classe c'est légerement mieux que le hasard qui est de 50% étant donné que la médiane a scindé la population en 2</p>\n",
    "<p>On peut expliquer cela par le fait que les variables catégorielles ne sont pas discriminantes pour savoir à quelle classe appartient l'individu autrement dit P(X|0) ~ P(X|1) la probabilité d'appartenir à la classe 0 sachant X est pratiquement équivalente à la probabilité d'appartenir à la classe 1 sacahant X</p>"
   ]
  },
  {
   "cell_type": "code",
   "execution_count": null,
   "metadata": {},
   "outputs": [],
   "source": [
    "for modalite,classe in moi.dictProbCara: #Affichage des probabilité condictionnelle sachant la classe d'appartenance\n",
    "    print(str(\"P(\"+modalite + \"|\" + str(classe) + \")\"+ \"=\" + str(moi.dictProbCara[modalite,classe])))"
   ]
  },
  {
   "cell_type": "markdown",
   "metadata": {},
   "source": [
    "<p>On constate effectivement que les probabilités différent peu si on appartient à la classe 0 ou 1 ce qui explique la faible qualité du modèles</p>"
   ]
  },
  {
   "cell_type": "code",
   "execution_count": null,
   "metadata": {},
   "outputs": [],
   "source": [
    "class GaussianNaiveBayes :\n",
    "    def __init__(self,setElement,nombreExtraction,tableauClasse):\n",
    "        self.test=[]\n",
    "        self.set=setElement\n",
    "        for i in range(0,nombreExtraction):\n",
    "            entier=randint(0,len(setElement)) #Meme fonctionnement que la classe k-proche\n",
    "            self.test.append(setElement[entier])\n",
    "            del setElement[entier]\n",
    "        dictProbClasse = {}\n",
    "        nbElementClasse= {}\n",
    "        self.classe=tableauClasse\n",
    "        for classe in tableauClasse:\n",
    "            dictProbClasse[classe]=0\n",
    "        for classe in tableauClasse:\n",
    "            for element in setElement:\n",
    "                if(element.classe==classe):\n",
    "                    dictProbClasse[classe] =  dictProbClasse[classe] + 1 #Meme fonctionnement que la classe Naive bayes\n",
    "        for classe in tableauClasse:\n",
    "            nbElementClasse[classe]=dictProbClasse[classe]\n",
    "            dictProbClasse[classe]=dictProbClasse[classe]/len(setElement)\n",
    "        dictDataClasse = {}\n",
    "        for classe in tableauClasse : #Création d'un dataframe par classe\n",
    "            dictDataClasse[classe] = pd.DataFrame()\n",
    "        for element in setElement:\n",
    "            for classe in tableauClasse:\n",
    "                if(element.classe == classe):\n",
    "                    dictDataClasse[classe] = dictDataClasse[classe].append(element.row) #Ajout des individu dans le dataframe qui correspond à leur classe\n",
    "                    break\n",
    "        dictProbCaraSachantClasse = {}\n",
    "        for classe in tableauClasse:\n",
    "            for cara in setElement[0].row.index:\n",
    "                dictProbCaraSachantClasse[cara,classe] = (dictDataClasse[classe][cara].mean(),dictDataClasse[classe][cara].var()) #Pour chaque colonne en fonction de la classe on calcul la moyenne et la variance\n",
    "        self.dictProbCara = dictProbCaraSachantClasse\n",
    "        self.dictProbClasse = dictProbClasse\n",
    "    def predict(self,element):\n",
    "        dictProbAppart = {}\n",
    "        for classe1 in self.classe:\n",
    "            dictProbAppart[classe1]=1\n",
    "            for cara in element.row.index:\n",
    "                numerateur=math.exp(-(element.row[cara] - self.dictProbCara[cara,classe1][0])**2/(2*self.dictProbCara[cara,classe1][1])) #On applique la formule de la distribution gaussienne afin d'obtenir la probabilité\n",
    "                denomi=(math.sqrt((2*math.pi*self.dictProbCara[cara,classe1][1])))\n",
    "                dictProbAppart[classe1]=dictProbAppart[classe1]*(numerateur/denomi) #On effectue le produit comme dans la formule ci-dessus\n",
    "\n",
    "                    \n",
    "            dictProbAppart[classe1] = dictProbAppart[classe1]*self.dictProbClasse[classe1]\n",
    "        best = -1\n",
    "        returnV=99 ##Meme fonctionnement que naif bayes\n",
    "        for classe in dictProbAppart:\n",
    "            if(best < dictProbAppart[classe]):\n",
    "                best = dictProbAppart[classe]\n",
    "                returnV=classe\n",
    "        return returnV\n",
    "    def score(self):\n",
    "        vrai = 0\n",
    "        if(len(self.test) == 0):\n",
    "            for element in self.set:\n",
    "                classe = self.predict(element)\n",
    "                \n",
    "                if(classe == element.classe):\n",
    "                    vrai=vrai+1\n",
    "            return vrai/len(self.set)\n",
    "        else:\n",
    "            for element in self.test:\n",
    "                classe = self.predict(element)\n",
    "                if(classe == element.classe):\n",
    "                    vrai=vrai+1\n",
    "            return vrai/len(self.test)    \n"
   ]
  },
  {
   "cell_type": "markdown",
   "metadata": {},
   "source": [
    "Classe qui nous permet d'instancier l'algorithme gaussian naive bayes sur des variables continues. \n",
    "On modélise les probabilités d'appartenance à l'aide d'une loi normale, et effectue un prelévement automatique parmi le jeu d'entrainement (les suppriment du jeu d'entrainement) afin par la suite d'effectuer des test de scoring<br>\n",
    "Arguments du constructeur<br>\n",
    "<b>setElement:</b><i>Ensemble d'elements de notre ensemble d'entrainement(type Element ci-dessus)</i><br>\n",
    "<b>nombreExtraction:</b><i>Nombre d'extraction à effectuer de notre ensemble d'elements de départ afin de constituer un ensemble de tests différents de celui d'entrainement</i><br>\n",
    "<b>tableauClasse:</b><i>Tableau de l'ensemble des classes de notre ensemble d'entrainements</i><br>\n",
    "<h3>Méthodes</h3>\n",
    "<li><b>predict:</b>  Méthode qui permet de prédire l'appartenance d'un individu à une certaine classe en maximisant la porbabilité d'appartenance à cette classe selon ces caractéristiques</li>\n",
    "<li><b>score:</b> Méthode qui permet de connaire sur l'ensemble de test et non d'entrainements le taux de bonnes predictions compris entre 0 et 1</li>\n",
    "<h4>Arguments des méthodes</h4>\n",
    "<table>\n",
    "    <thead>\n",
    "        <tr>\n",
    "            <th>Arguments</th>\n",
    "            <th>METHODES : predict</th>\n",
    "        </tr>\n",
    "    </thead>\n",
    "    <tbody>\n",
    "        <tr>\n",
    "            <td>element</td>\n",
    "            <td>Individu sur lequel il faut déterminer la classe d'appartenance</td>\n",
    "        </tr>\n",
    "    </tbody>\n",
    "</table>\n",
    "\n",
    "<p>A partir du théorème de Bayes la probabilité d'appartenir à la classe y sachant les caractéristique Xi équivaut à :</p>\n",
    "\\begin{align}P(y \\mid x_1, \\dots, x_n) = \\frac{P(y) \\prod_{i=1}^{n} P(x_i \\mid y)}\n",
    "                                 {P(x_1, \\dots, x_n)}\\end{align}\n",
    "<p>Etant donnée que le dénominateur ne dépend que des caractéristique on peut l'omettre de l'équation car on peut le considérer comme une constante qui ne nous intéresse pas dans notre problèmes de maximisation , ce qui revient à trouver l'argument y qui maximise : </p>\n",
    "\\begin{align}\\begin{aligned}P(y \\mid x_1, \\dots, x_n) \\propto P(y) \\prod_{i=1}^{n} P(x_i \\mid y)\\\\\\Downarrow\\\\\\hat{y} = \\arg\\max_y P(y) \\prod_{i=1}^{n} P(x_i \\mid y),\\end{aligned}\\end{align}\n",
    "\n",
    "<p>Etant donné qu'ici nous avons des variables continues nous obtenons la propabilités d'obtenir la valeur xi en sachant qu'on appartient à la classe C à l'aide d'une distribution gaussienne : </p>\n",
    "<img src=\"https://cdn-images-1.medium.com/max/1600/1*I8NyhErPvQ_IbU5wzJl5UA.png\" /><br>\n",
    "<p>Donc pour chaque dimension de notre problème nous déterminons la moyenne et la variance de chaque gaussienne</p>\n"
   ]
  },
  {
   "cell_type": "code",
   "execution_count": null,
   "metadata": {},
   "outputs": [],
   "source": [
    "##MEME FONCTIONNEMENT QUE CELLULE 57\n",
    "a = csvToTab(\"StudentsPerformance.csv\",\",\",\"math score\",[\"gender\",\"race/ethnicity\",\"parental level of education\",\"lunch\",\"test preparation course\"],[\"reading score\",\"writing score\"],[])\n",
    "tab = a.getTabReady(False,200,60)\n",
    "tab = tab.drop(columns=a.columnExp)\n",
    "mediane = a.data[a.columnExp].median()\n",
    "classeElement=[]\n",
    "index=0\n",
    "\n",
    "for values in a.data[a.columnExp]:\n",
    "    if(values>mediane):\n",
    "        \n",
    "        classeElement.append(Element(tab.loc[index],1,index))\n",
    "        a.data.at[index,a.columnExp]=1\n",
    "        \n",
    "    else:\n",
    "        classeElement.append(Element(tab.loc[index],0,index))\n",
    "        a.data.at[index,a.columnExp]=0\n",
    "        \n",
    "    index=index+1\n",
    "algo=GaussianNaiveBayes(classeElement.copy(),0,[0,1])\n",
    "gnb = GaussianNB()\n",
    "gnb.fit(tab,a.data[a.columnExp])\n",
    "sScore=gnb.score(tab,a.data[a.columnExp])\n",
    "mScore=algo.score()\n",
    "print(\"Score de mon algorithme :\" + str(mScore))\n",
    "print(\"Score de scikit :\" + str(sScore)+ \"\\n\")\n",
    "    "
   ]
  },
  {
   "cell_type": "markdown",
   "metadata": {},
   "source": [
    "<p>On constate que ce modèle de Bayes est beaucoup plus efficace que celui qui fonctionne sur les variables catégorielles, cela signifie que nos deux variables continues sont plus discrimiantes que les variables catégorielles precedentes , les gaussienne associées à chaque classe permettent de définir des probabilitées d'appartance sensiblement différentes à la classe 1 ou 0   </p>  "
   ]
  },
  {
   "cell_type": "code",
   "execution_count": null,
   "metadata": {},
   "outputs": [],
   "source": [
    "tabMoyenne = []\n",
    "tabVariance = []\n",
    "tabNom = {}\n",
    "y=0\n",
    "for categorie,classe in algo.dictProbCara: #On récupere la moyenne et varaince de chaque colonne en fonction de la classe\n",
    "    tabNom[y] = categorie \n",
    "    moyenne=algo.dictProbCara[categorie,classe][0]\n",
    "    variance=algo.dictProbCara[categorie,classe][1]\n",
    "    tabMoyenne.append(moyenne)\n",
    "    tabVariance.append(variance)\n",
    "    y=y+1\n",
    "i=0\n",
    "nbCategorie=len(tab.axes[1])\n",
    "while ( i < len(tabMoyenne)/2):\n",
    "    moyenne=tabMoyenne[i]\n",
    "    variance=tabVariance[i]\n",
    "    moyenneClasseSuivante=tabMoyenne[i+nbCategorie]\n",
    "    varianceClasseSuivante=tabVariance[i+nbCategorie]\n",
    "    ecartType1 = math.sqrt(variance)\n",
    "    ecartType2 = math.sqrt(varianceClasseSuivante)\n",
    "    ##On affiche les distribution gaussienne en fonction des catégories et des classe\n",
    "    x1 = np.linspace(moyenne - 3*ecartType1, moyenne + 3*ecartType1, 100)\n",
    "    x2 = np.linspace(moyenneClasseSuivante - 3*ecartType2, moyenneClasseSuivante + 3*ecartType2, 100)\n",
    "    plt.plot(x1, stats.norm.pdf(x1, moyenne, ecartType1),label='Note Math < 50')\n",
    "    plt.plot(x2, stats.norm.pdf(x2, moyenneClasseSuivante, ecartType2),label='Note Math > 50')\n",
    "    plt.title('Catégorie : '   + tabNom[i])\n",
    "    plt.legend(loc='upper left')\n",
    "    plt.show()\n",
    "    i=i+1\n",
    "    "
   ]
  },
  {
   "cell_type": "markdown",
   "metadata": {},
   "source": [
    "<p>On constate que les deux gaussiennes sont bien discrimantes jusqu'à un certain point: les étudiants qui ont une note entre 30 et 55 ont une tres forte probabilitée d'avoir obtenue une inférieure à 50 en maths et les étudiants qui ont obtenue une note >80 ont une très forte probabilité d'avoir obtenue une note > 50 en maths. On constate aussi  que l'ecart type des personnes qui ont obtenu une note >50 est plus faible que ceux qui ont obtenu une note inférieure à 50 cela s'explique par le fait que les étudiants qui ont obtenu une note >50 en math ont pour la plupart aussi obtenu de bonnes notes en reading et writing , et pour terminer on constate que les distributions de gaussiennes selon les catégories sont extrêmement équivalentes donc on peut réduire notre modèle à une des deux , car une dimension est <strong>redondante</strong> ici</p> "
   ]
  },
  {
   "cell_type": "code",
   "execution_count": null,
   "metadata": {},
   "outputs": [],
   "source": [
    "##MEME FONCTIONNEMENT QUE CELLULE 57\n",
    "a = csvToTab(\"StudentsPerformance.csv\",\",\",\"math score\",[\"gender\",\"race/ethnicity\",\"parental level of education\",\"lunch\",\"test preparation course\",\"reading score\"],[\"writing score\"],[])\n",
    "tab = a.getTabReady(False,200,60)\n",
    "tab = tab.drop(columns=a.columnExp)\n",
    "mediane = a.data[a.columnExp].median()\n",
    "classeElement=[]\n",
    "index=0\n",
    "\n",
    "for values in a.data[a.columnExp]:\n",
    "    if(values>mediane):\n",
    "        \n",
    "        classeElement.append(Element(tab.loc[index],1,index))\n",
    "        a.data.at[index,a.columnExp]=1\n",
    "        \n",
    "    else:\n",
    "        classeElement.append(Element(tab.loc[index],0,index))\n",
    "        a.data.at[index,a.columnExp]=0\n",
    "        \n",
    "    index=index+1\n",
    "algo=GaussianNaiveBayes(classeElement.copy(),0,[0,1])\n",
    "mScore=algo.score()\n",
    "print(\"Score de mon algorithme :\" + str(mScore))\n",
    "\n",
    "    "
   ]
  },
  {
   "cell_type": "markdown",
   "metadata": {},
   "source": [
    "En ne conservant qu'une seule dimension on constate que le score est bien équivalent"
   ]
  },
  {
   "cell_type": "code",
   "execution_count": null,
   "metadata": {},
   "outputs": [],
   "source": [
    "#Meme fonctionnement que pour la régression linéaire partie 1 \n",
    "a = csvToTab(\"StudentsPerformance.csv\",\",\",\"math score\",[],[\"writing score\",\"reading score\"],[\"gender\",\"race/ethnicity\",\"parental level of education\",\"lunch\",\"test preparation course\"])\n",
    "tab = a.getTabReady(False,200,60)"
   ]
  },
  {
   "cell_type": "markdown",
   "metadata": {},
   "source": [
    "On conserve les colonnes quantitatives ainsi que les continues étant donné que pour la régression il y a un intérêt à cela"
   ]
  },
  {
   "cell_type": "code",
   "execution_count": null,
   "metadata": {},
   "outputs": [],
   "source": [
    "#Meme fonctionnement que pour la régression linéaire partie 1 \n",
    "\n",
    "quanta = tab.filter(items=a.columnQuanta)\n",
    "quantaWithRating= quanta.corrwith(tab['math score'])\n",
    "qunataWithQuanta=quanta.corr()\n",
    "quantaWithRating.plot.bar()\n",
    "qunataWithQuanta.plot.bar()\n",
    "mediane = a.data[a.columnExp].median()\n",
    "index=0\n",
    "##On assigne chaque individu à sa classe d'appartenance\n",
    "for values in a.data[a.columnExp]:\n",
    "    if(values>mediane):\n",
    "        classeElement.append(Element(tab.loc[index],1,index))\n",
    "        a.data.at[index,a.columnExp]=1\n",
    "    else:\n",
    "        classeElement.append(Element(tab.loc[index],0,index))\n",
    "        a.data.at[index,a.columnExp]=0\n",
    "    index=index+1"
   ]
  },
  {
   "cell_type": "markdown",
   "metadata": {},
   "source": [
    "On constate que les deux colonnes quantitatives sont extrêmement corrélées avec le champ math score donc il faut les conserver pour notre régression , mais elles sont également extrêmement corélées entre-elles donc on ne conservera qu'une seule des deux car si on prend les deux il y aura redondance"
   ]
  },
  {
   "cell_type": "code",
   "execution_count": null,
   "metadata": {},
   "outputs": [],
   "source": [
    "#Meme fonctionnement que pour la régression linéaire partie 1 \n",
    "\n",
    "tabCov = tab.corr()\n",
    "seuilCorr= 0.9\n",
    "i=0\n",
    "y=0\n",
    "deleted = []\n",
    "while(i < len(tabCov.axes[1])):\n",
    "    while(y < len(tabCov.axes[1])) :\n",
    "        if(abs(tabCov.iat[i,y]) > seuilCorr) :\n",
    "            if(tabCov.axes[1][y] != tabCov.axes[0][i]) :\n",
    "                if(not((tabCov.axes[1][y] in deleted) or (tabCov.axes[0][i] in deleted)) ):\n",
    "                    deleted.append(tabCov.axes[1][y])\n",
    "                    tab = tab.drop(columns=tabCov.axes[1][y],errors='ignore')\n",
    "                    print(tabCov.axes[1][y] +\":\"+tabCov.axes[0][i]+ \" CORR:\"+str(tabCov.iat[i,y]))\n",
    "        y=y+1\n",
    "    y=0\n",
    "    i=i+1"
   ]
  },
  {
   "cell_type": "markdown",
   "metadata": {},
   "source": [
    "<p>On supprime les colonnes redondantes qui apportent les mêmes inforiance qui varient ensemble ou dans un sens inverse , comme par exemple male:female effectivemment il n'y a aucun interert à conserver les 2 , de même pour standard:free/reduced , none:completed , et comme on a pu le constater en haut le writing score et le reading score sont redondants donc on en conserve uniquement un seul </p>"
   ]
  },
  {
   "cell_type": "code",
   "execution_count": null,
   "metadata": {},
   "outputs": [],
   "source": [
    "#Meme fonctionnement que pour la régression linéaire partie 1 \n",
    "\n",
    "seuilCorr= 0.1\n",
    "colonneConserver = []\n",
    "for colonne in tab.axes[1]:\n",
    "    if(colonne not in a.columnQuanta):\n",
    "        if(stats.pointbiserialr(tab[colonne],tab['math score'])[0] > seuilCorr or stats.pointbiserialr(tab[colonne],tab['math score'])[0] < -seuilCorr ):\n",
    "            print(colonne)\n",
    "            colonneConserver.append(colonne)\n",
    "        else :\n",
    "            tab=tab.drop(columns=colonne)\n",
    "        \n",
    "    "
   ]
  },
  {
   "cell_type": "markdown",
   "metadata": {},
   "source": [
    "A l'aide du point biserial nous déterminons quelle modalité des variables catégorielles a une corrélation avec le champ math score\n",
    "(On conserve la colonne math score pour le moment pour de futur opération on la supprimera avant la régression)"
   ]
  },
  {
   "cell_type": "code",
   "execution_count": null,
   "metadata": {},
   "outputs": [],
   "source": [
    "#Meme fonctionnement que pour la régression linéaire partie 1 \n",
    "\n",
    "begin=0\n",
    "end = 100\n",
    "step=10\n",
    "mapIntervalleNote={}\n",
    "repartitionCategorie={}\n",
    "repartitionNote={}\n",
    "repartitionGlobale={}\n",
    "for i in range(int((end/step))):\n",
    "    intervalle=tab[((tab['math score']>=begin) & (tab['math score']<= begin+step))]\n",
    "    mapIntervalleNote[begin] = intervalle.drop(columns='math score')\n",
    "    repartitionGlobale[begin] = (len(intervalle.index),len(tab.index))\n",
    "\n",
    "    for col in intervalle.axes[1]:\n",
    "        repartitionCategorie[begin,col] = (intervalle[col].sum(),(tab[col].sum()))\n",
    "        repartitionNote[begin,col]=(intervalle[col].sum(),len(intervalle.index))\n",
    "    begin=begin+step\n",
    "mapR={}\n",
    "mapRR={}\n",
    "mapRRR={}\n",
    "begin=0\n",
    "for i in range((int(end/step))):\n",
    "    for col in (mapIntervalleNote.get(0).axes[1]):\n",
    "        value=repartitionCategorie[begin,col]\n",
    "        value1=repartitionNote[begin,col]\n",
    "        value2=repartitionGlobale[begin]\n",
    "        mapR[begin,col]=(value[0]/value[1])*100\n",
    "        mapRR[begin,col]=(value1[0]/value1[1])*100\n",
    "        mapRRR[begin] = (value2[0]/value2[1])*100\n",
    "    begin=begin+step\n",
    "begin=0\n",
    "for col in (tab.axes[1]):\n",
    "    if(col in mapIntervalleNote[begin].axes[1]):\n",
    "        if(col not in a.columnQuanta):\n",
    "            x=[]\n",
    "            y=[]\n",
    "            y1=[]\n",
    "            y2=[]\n",
    "            for i in range(int(end/step)):\n",
    "                valeur=mapR[begin,col]\n",
    "                x.append(begin)\n",
    "                y.append(valeur)\n",
    "                y1.append(mapRR[begin,col])\n",
    "                y2.append(mapRRR[begin])\n",
    "                begin=begin+step\n",
    "            y_pos = np.arange(len(x))\n",
    "            plt.figure(figsize=(15,5))\n",
    "            plt.subplot(1,3,1)\n",
    "            plt.bar(y_pos, y1, align='center', alpha=0.5)\n",
    "            plt.xticks(y_pos, x)\n",
    "            plt.ylabel('Pourcentage')\n",
    "            plt.xlabel('Rating')\n",
    "            plt.ylim(0,100)\n",
    "            title(str(col)+ \"(Repartition /Ensemble Math score )\")\n",
    "            plt.subplot(1,3,2)\n",
    "            plt.bar(y_pos, y, align='center', alpha=0.5)\n",
    "            plt.xticks(y_pos, x)\n",
    "            plt.ylabel('Pourcentage')\n",
    "            plt.xlabel('Rating')\n",
    "            plt.ylim(0,100)\n",
    "            title(str(col)+\"(Repartition /Ensemble categorie )\")\n",
    "            plt.subplot(1,3,3)\n",
    "            plt.bar(y_pos, y2, align='center', alpha=0.5)\n",
    "            plt.xticks(y_pos, x)\n",
    "            plt.ylabel('Pourcentage')\n",
    "            plt.xlabel('Rating')\n",
    "            plt.ylim(0,100)\n",
    "            title(\"Repartition Normale\")\n",
    "            plt.show()\n",
    "            begin=0"
   ]
  },
  {
   "cell_type": "markdown",
   "metadata": {},
   "source": [
    "En effet, on constate que les modalités conservées sont bien un minimum corélées avec le math score :\n",
    "55% des individus qui ont obtenu une note entre 90-100 ont la modalité completed\n",
    "100% des individus qui ont obtenu une note entre 0-20 sont des femmes\n",
    "100% des individus qui ont des frais de cantine réduit ont obtenu des notes entre 0-10\n",
    "50% des individus qui ont des frais de cantine réduit ont obtenu des notes entre 10-20\n",
    "80% des individus qui ont des frais de cantine réduit ont obtenu des notes entre 20-30\n",
    "En bref, les individus qui ont des frais de cantine réduit on obtenu de mauvaise note en maths par rapport à la répartition normale\n",
    "Les personnes de l'ethnicité group E ont obtenu de bonnes notes en maths par rapport à la répartition normale\n",
    "Les personnes dont le niveau d'éducation des parents est high school ont obtenu plus de mauvaises notes que la répartition normale"
   ]
  },
  {
   "cell_type": "code",
   "execution_count": null,
   "metadata": {},
   "outputs": [],
   "source": [
    "#Meme fonctionnement que pour la régression linéaire partie 1 \n",
    "\n",
    "tab = tab.drop(columns=a.columnExp)\n",
    "regr = linear_model.LogisticRegression(solver='lbfgs')\n",
    "regr.fit(tab,a.data[a.columnExp])\n",
    "\n",
    "print(\"Score de la régression : \"+str(regr.score(tab,a.data[a.columnExp])))\n",
    "display(HTML(tab.head(5).to_html()))\n"
   ]
  },
  {
   "cell_type": "markdown",
   "metadata": {},
   "source": [
    "On constate que le modèle de la régression logistique est adapté. C'est le modèle qui se révèle être le plus performant pour notre classification bi-classe. On peut expliquer cela par le fait que toutes les varaibles continues sont extrêmement corrélées avec le champ math score. De plus les variables catégorielles sont elles aussi discriminantes comme on a pu le voir ci-dessus. "
   ]
  }
 ],
 "metadata": {
  "kernelspec": {
   "display_name": "Python 3",
   "language": "python",
   "name": "python3"
  },
  "language_info": {
   "codemirror_mode": {
    "name": "ipython",
    "version": 3
   },
   "file_extension": ".py",
   "mimetype": "text/x-python",
   "name": "python",
   "nbconvert_exporter": "python",
   "pygments_lexer": "ipython3",
   "version": "3.7.3"
  }
 },
 "nbformat": 4,
 "nbformat_minor": 2
}
